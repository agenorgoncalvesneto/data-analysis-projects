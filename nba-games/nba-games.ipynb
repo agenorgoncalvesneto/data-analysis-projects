{
 "cells": [
  {
   "cell_type": "code",
   "execution_count": 79,
   "metadata": {},
   "outputs": [],
   "source": [
    "import pandas as pd\n",
    "import sqlite3 as db\n",
    "\n",
    "from bs4 import BeautifulSoup\n",
    "from helium import click, go_to, start_firefox\n",
    "from helium import *\n",
    "\n",
    "from time import sleep"
   ]
  },
  {
   "cell_type": "code",
   "execution_count": 2,
   "metadata": {},
   "outputs": [],
   "source": [
    "from selenium.webdriver import FirefoxOptions\n",
    "options = FirefoxOptions()\n",
    "options.add_argument(\"--width=1024\")\n",
    "options.add_argument(\"--height=768\")\n",
    "options.add_argument(\"-headless\")"
   ]
  },
  {
   "cell_type": "code",
   "execution_count": 3,
   "metadata": {},
   "outputs": [],
   "source": [
    "with db.connect('data/nba-games-source.db') as con:\n",
    "    query = 'CREATE TABLE nba_games_source (game_id TEXT NOT NULL PRIMARY KEY)'\n",
    "    cur = con.cursor()\n",
    "    cur.execute(query)"
   ]
  },
  {
   "cell_type": "code",
   "execution_count": 46,
   "metadata": {},
   "outputs": [],
   "source": [
    "def get_sources(years=[]):\n",
    "    sources_dict = {}\n",
    "    for year in years:\n",
    "        link = f'flashscore.com/basketball/usa/nba-{year}-{year+1}/results/'\n",
    "        with start_firefox(options=options) as driver:            \n",
    "            go_to(link)\n",
    "            accept_cookies()\n",
    "            scroll_down_page(driver)\n",
    "            sources_dict[year] = driver.page_source\n",
    "    return sources_dict\n",
    "\n",
    "\n",
    "def accept_cookies():\n",
    "    try: click(Button('I Accept'))\n",
    "    except LookupError: return\n",
    "\n",
    "\n",
    "def scroll_down_page(driver):\n",
    "    errors = 0\n",
    "    while errors < 2:\n",
    "        sleep(2)\n",
    "        try: show_more_games(driver)\n",
    "        except LookupError: errors += 1\n",
    "        else: errors = 0\n",
    "\n",
    "\n",
    "def show_more_games(driver):\n",
    "    driver.execute_script('window.scrollTo(0, document.body.scrollHeight);')\n",
    "    click('Show more matches')"
   ]
  },
  {
   "cell_type": "code",
   "execution_count": 47,
   "metadata": {},
   "outputs": [],
   "source": [
    "def get_games_id(sources):\n",
    "    years = sources.keys()\n",
    "    games_id_dict = {}\n",
    "    for year in years:\n",
    "        source = BeautifulSoup(sources[year], 'html.parser')\n",
    "        games_id = source.find_all('div', attrs={'class': 'event__match'})\n",
    "        games_id = [match_id['id'].split('_')[-1] for match_id in games_id]\n",
    "        games_id_dict[year] = pd.DataFrame(reversed(games_id), columns=['game_id'])\n",
    "    return games_id_dict"
   ]
  },
  {
   "cell_type": "code",
   "execution_count": 49,
   "metadata": {},
   "outputs": [],
   "source": [
    "def record_games_id(games_id):\n",
    "    years = games_id.keys()\n",
    "    for year in years:\n",
    "        with db.connect('data/nba-games-source.db') as con:\n",
    "            games_id[year].to_sql('nba_games_source', con=con, index=False, if_exists='append')"
   ]
  },
  {
   "cell_type": "code",
   "execution_count": 66,
   "metadata": {},
   "outputs": [],
   "source": [
    "#years = list(range(1993, 2021))\n",
    "years = [2009, 2010, 2011, 2012, 2013]\n",
    "sources = get_sources(years)\n",
    "games_id = get_games_id(sources)\n",
    "record_games_id(games_id)"
   ]
  },
  {
   "cell_type": "code",
   "execution_count": 71,
   "metadata": {},
   "outputs": [
    {
     "name": "stdout",
     "output_type": "stream",
     "text": [
      "[('dKWb4wc3',), ('x4DY02ZR',), ('p8wAZTdd',), ('82MDq5Ig',), ('rmXxWTN0',)]\n",
      "[('ETkrYCgg',), ('hKlnXW8a',), ('nsljWjO5',), ('pS6gVAwC',), ('67Upolsm',)]\n"
     ]
    }
   ],
   "source": [
    "with db.connect('data/nba-games-source.db') as con:\n",
    "    cur = con.cursor()\n",
    "    cur.execute('SELECT game_id FROM nba_games_source')\n",
    "    print(cur.fetchmany(5))\n",
    "    cur.execute('SELECT game_id FROM nba_games_source')\n",
    "    print(cur.fetchall()[-5:])"
   ]
  },
  {
   "cell_type": "code",
   "execution_count": null,
   "metadata": {},
   "outputs": [],
   "source": [
    "def create_db(year):\n",
    "    with db.connect(f'data/nba-matches-{year}-source.db') as conn:\n",
    "        query = '''CREATE TABLE IF NOT EXISTS matches_source (\n",
    "            match_id TEXT NOT NULL PRIMARY KEY,\n",
    "            match_summary TEXT,\n",
    "            player_statistics TEXT,\n",
    "            match_statistics_0 TEXT,\n",
    "            match_statistics_1 TEXT,\n",
    "            match_statistics_2 TEXT,\n",
    "            match_statistics_3 TEXT,\n",
    "            match_statistics_4 TEXT,\n",
    "            match_statistics_5 TEXT,\n",
    "            lineups TEXT,\n",
    "            point_by_point_0 TEXT,\n",
    "            point_by_point_1 TEXT,\n",
    "            point_by_point_2 TEXT,\n",
    "            point_by_point_3 TEXT,\n",
    "            point_by_point_4 TEXT,\n",
    "            odds_comparison TEXT)\n",
    "            '''\n",
    "        cur = conn.cursor()\n",
    "        cur.execute(query)\n",
    "\n",
    "\n",
    "def insert_matches_id(year, matches_id):\n",
    "    with db.connect(f'data/nba-matches-{year}-source.db') as conn:\n",
    "        query = '''INSERT INTO matches_source VALUES (\n",
    "            :match_id,\n",
    "            :match_summary,\n",
    "            :player_statistics,\n",
    "            :match_statistics_0,\n",
    "            :match_statistics_1,\n",
    "            :match_statistics_2,\n",
    "            :match_statistics_3,\n",
    "            :match_statistics_4,\n",
    "            :match_statistics_5,\n",
    "            :lineups,\n",
    "            :point_by_point_0,\n",
    "            :point_by_point_1,\n",
    "            :point_by_point_2,\n",
    "            :point_by_point_3,\n",
    "            :point_by_point_4,\n",
    "            :odds_comparison)\n",
    "            '''\n",
    "        values = {'match_id': None,\n",
    "            'match_summary': None,\n",
    "            'player_statistics': None,\n",
    "            'match_statistics_0': None,\n",
    "            'match_statistics_1': None,\n",
    "            'match_statistics_2': None,\n",
    "            'match_statistics_3': None,\n",
    "            'match_statistics_4': None,\n",
    "            'match_statistics_5': None,\n",
    "            'lineups': None,\n",
    "            'point_by_point_0': None,\n",
    "            'point_by_point_1': None,\n",
    "            'point_by_point_2': None,\n",
    "            'point_by_point_3': None,\n",
    "            'point_by_point_4': None,\n",
    "            'odds_comparison': None}     \n",
    "\n",
    "        cur = conn.cursor()\n",
    "        for match_id in reversed(matches_id):\n",
    "            values['match_id'] = match_id\n",
    "            cur.execute(query, values)"
   ]
  },
  {
   "cell_type": "markdown",
   "metadata": {},
   "source": [
    "- #match-summary\n",
    "  - #match-summary/match-summary\n",
    "  - #match-summary/player-statistics\n",
    "  - #match-summary/match-statistics\n",
    "    - #match-summary/match-statistics/0\n",
    "    - #match-summary/match-statistics/1\n",
    "    - #match-summary/match-statistics/2\n",
    "    - #match-summary/match-statistics/3\n",
    "    - #match-summary/match-statistics/4\n",
    "    - #match-summary/match-statistics/5\n",
    "  - #match-summary/lineups\n",
    "  - #match-summary/point-by-point\n",
    "    - #match-summary/point-by-point/0\n",
    "    - #match-summary/point-by-point/1\n",
    "    - #match-summary/point-by-point/2\n",
    "    - #match-summary/point-by-point/3\n",
    "    - #match-summary/point-by-point/4\n",
    "- #odds-comparison\n"
   ]
  },
  {
   "cell_type": "code",
   "execution_count": 118,
   "metadata": {},
   "outputs": [],
   "source": [
    "with start_firefox(options=options) as driver:\n",
    "    link = f'flashscore.com/match/dKWb4wc3/#match-summary'\n",
    "    go_to(link)\n",
    "    sleep(1)\n",
    "    source = BeautifulSoup(driver.page_source, 'html.parser')"
   ]
  },
  {
   "cell_type": "code",
   "execution_count": 114,
   "metadata": {},
   "outputs": [
    {
     "name": "stdout",
     "output_type": "stream",
     "text": [
      "['#match-summary', '#odds-comparison', '#h2h', '#draw']\n"
     ]
    }
   ],
   "source": [
    "tabs_top = source.find('div', attrs={'class': 'tabs__detail'}).find_all('a', attrs={'class': 'tabs__tab'})\n",
    "tabs_top = [tab['href'] for tab in tabs_top]\n",
    "print(tabs_top)"
   ]
  },
  {
   "cell_type": "code",
   "execution_count": 115,
   "metadata": {},
   "outputs": [
    {
     "name": "stdout",
     "output_type": "stream",
     "text": [
      "['#match-summary/match-summary', '#match-summary/player-statistics', '#match-summary/match-statistics', '#match-summary/lineups', '#match-summary/point-by-point']\n"
     ]
    }
   ],
   "source": [
    "tabs_bottom = source.find('div', attrs={'class': 'tabs__detail--nav'}).find_all('a', attrs={'class': 'tabs__tab'})\n",
    "tabs_bottom = [tab['href'] for tab in tabs_bottom]\n",
    "print(tabs_bottom)"
   ]
  },
  {
   "cell_type": "code",
   "execution_count": 117,
   "metadata": {},
   "outputs": [
    {
     "name": "stdout",
     "output_type": "stream",
     "text": [
      "#match-summary/match-summary\n",
      "#match-summary/player-statistics\n"
     ]
    }
   ],
   "source": [
    "if source.find_all('a', attrs={'href': '#match-summary/match-summary'}):\n",
    "    print('#match-summary/match-summary')\n",
    "\n",
    "if source.find_all('a', attrs={'href': '#match-summary/player-statistics'}):\n",
    "    print('#match-summary/player-statistics')    "
   ]
  },
  {
   "cell_type": "code",
   "execution_count": 113,
   "metadata": {},
   "outputs": [],
   "source": [
    "with start_firefox(options=options) as driver:\n",
    "    link = f'flashscore.com/match/67Upolsm/#match-summary/match-statistics'\n",
    "    go_to(link)\n",
    "    sleep(1)\n",
    "    source = BeautifulSoup(driver.page_source, 'html.parser')"
   ]
  },
  {
   "cell_type": "code",
   "execution_count": null,
   "metadata": {},
   "outputs": [
    {
     "data": {
      "text/plain": [
       "['#match-summary/match-summary',\n",
       " '#match-summary/player-statistics',\n",
       " '#match-summary/match-statistics',\n",
       " '#match-summary/lineups',\n",
       " '#match-summary/point-by-point']"
      ]
     },
     "metadata": {},
     "output_type": "display_data"
    }
   ],
   "source": [
    "with start_firefox(options=options) as driver:\n",
    "    link = f'flashscore.com/match/67Upolsm/#match-summary/match-statistics'\n",
    "    go_to(link)\n",
    "    sleep(1)\n",
    "    source = BeautifulSoup(driver.page_source, 'html.parser')"
   ]
  },
  {
   "cell_type": "code",
   "execution_count": 8,
   "metadata": {},
   "outputs": [
    {
     "name": "stdout",
     "output_type": "stream",
     "text": [
      "         fase:  NBA\n",
      "         data:  18.11.2021 00:00\n",
      "        times:  ['Phoenix Suns', 'Dallas Mavericks']\n",
      "       pontos:  105-98\n",
      "       status:  Finished\n",
      "         obs.:  None\n",
      "   stats casa:  ['93', '41', '44.1%', '54', '28', '51.9%', '39', '13', '33.3%', '14', '10', '71.4%', '8', '41', '49', '27', '7', '8', '6', '9', '1']\n",
      "   stats fora:  ['92', '38', '41.3%', '60', '22', '36.7%', '32', '16', '50%', '6', '6', '100%', '9', '41', '50', '28', '2', '10', '5', '14', '0']\n",
      "    odds casa:  bet365\n",
      "         odds:  ['1.28[d]1.27', '3.75[u]3.80']\n",
      "\n",
      "         fase:  NBA\n",
      "         data:  18.11.2021 00:00\n",
      "        times:  ['Portland Trail Blazers', 'Chicago Bulls']\n",
      "       pontos:  112-107\n",
      "       status:  Finished\n",
      "         obs.:  None\n",
      "   stats casa:  ['84', '37', '44%', '53', '26', '49.1%', '31', '11', '35.5%', '28', '27', '96.4%', '12', '32', '44', '26', '5', '17', '10', '19', '0']\n",
      "   stats fora:  ['83', '39', '47%', '54', '26', '48.1%', '29', '13', '44.8%', '20', '16', '80%', '10', '26', '36', '23', '9', '15', '7', '23', '1']\n",
      "    odds casa:  bet365\n",
      "         odds:  ['1.74[d]1.62', '2.15[u]2.40']\n",
      "\n",
      "         fase:  NBA\n",
      "         data:  17.11.2021 22:00\n",
      "        times:  ['Minnesota Timberwolves', 'Sacramento Kings']\n",
      "       pontos:  107-97\n",
      "       status:  Finished\n",
      "         obs.:  None\n",
      "   stats casa:  ['82', '41', '50%', '46', '31', '67.4%', '36', '10', '27.8%', '18', '15', '83.3%', '10', '25', '35', '20', '10', '17', '8', '24', '0']\n",
      "   stats fora:  ['93', '34', '36.6%', '55', '24', '43.6%', '38', '10', '26.3%', '25', '19', '76%', '20', '27', '47', '19', '3', '20', '7', '22', '0']\n",
      "    odds casa:  bet365\n",
      "         odds:  ['1.80[d]1.74', '2.05[u]2.15']\n",
      "\n",
      "         fase:  NBA\n",
      "         data:  17.11.2021 22:00\n",
      "        times:  ['Oklahoma City Thunder', 'Houston Rockets']\n",
      "       pontos:  101-89\n",
      "       status:  Finished\n",
      "         obs.:  None\n",
      "   stats casa:  ['92', '41', '44.6%', '53', '31', '58.5%', '39', '10', '25.6%', '16', '9', '56.3%', '9', '47', '56', '18', '6', '14', '10', '19', '0']\n",
      "   stats fora:  ['90', '32', '35.6%', '48', '20', '41.7%', '42', '12', '28.6%', '19', '13', '68.4%', '9', '37', '46', '16', '4', '14', '6', '14', '0']\n",
      "    odds casa:  bet365\n",
      "         odds:  ['1.64', '2.35']\n",
      "\n",
      "         fase:  NBA\n",
      "         data:  17.11.2021 21:30\n",
      "        times:  ['Atlanta Hawks', 'Boston Celtics']\n",
      "       pontos:  110-99\n",
      "       status:  Finished\n",
      "         obs.:  None\n",
      "   stats casa:  ['81', '41', '50.6%', '44', '28', '63.6%', '37', '13', '35.1%', '18', '15', '83.3%', '6', '34', '40', '28', '4', '14', '9', '17', '0']\n",
      "   stats fora:  ['84', '37', '44%', '43', '26', '60.5%', '41', '11', '26.8%', '17', '14', '82.4%', '12', '30', '42', '24', '2', '14', '9', '17', '1']\n",
      "    odds casa:  bet365\n",
      "         odds:  ['1.57[d]1.50', '2.55[u]2.70']\n",
      "\n"
     ]
    }
   ],
   "source": [
    "for html in lista:\n",
    "    html = BeautifulSoup(html, 'html.parser')\n",
    "\n",
    "    fase = html.find('a', {'href': '/basketball/usa/nba/'}).text\n",
    "    print('fase: '.rjust(15), fase)\n",
    "\n",
    "    data = html.find('div', {'class': 'duelParticipant__startTime'}).text\n",
    "    print('data: '.rjust(15), data)\n",
    "\n",
    "    times = html.findAll('div', {'class': 'participant__participantName'})\n",
    "    times = [t.text for t in times]\n",
    "    print('times: '.rjust(15), times)\n",
    "\n",
    "    pontos = html.find('div', {'class': 'detailScore__wrapper'}).text\n",
    "    print('pontos: '.rjust(15), pontos)\n",
    "\n",
    "    try:\n",
    "        status = html.find('div', {'class': 'detailScore__status'}).text\n",
    "        print('status: '.rjust(15), status)\n",
    "    except:\n",
    "        print('status: '.rjust(15), None)\n",
    "\n",
    "    try:        \n",
    "        obs = html.find('div', {'class': 'infoBox__info'}).text\n",
    "        print('obs.: '.rjust(15), obs)\n",
    "    except:\n",
    "        print('obs.: '.rjust(15), None)\n",
    "\n",
    "    stats_home = html.findAll('div', {'class': 'statHomeValue'})\n",
    "    stats_home = [s.text for s in stats_home]\n",
    "    print('stats casa: '.rjust(15), stats_home)\n",
    "\n",
    "    stats_away = html.findAll('div', {'class': 'statAwayValue'})\n",
    "    stats_away = [s.text for s in stats_away]\n",
    "    print('stats fora: '.rjust(15), stats_away)\n",
    "\n",
    "    try:\n",
    "        casa_de_aposta = html.find('img', {'class': 'prematchLogo'})['title']\n",
    "        print('odds casa: '.rjust(15), casa_de_aposta)\n",
    "    except:\n",
    "        print('odds casa: '.rjust(15), None)\n",
    "\n",
    "    odds = html.find_all('div', attrs={'class': 'cellWrapper'})\n",
    "    odds = [o['title'] for o in odds]\n",
    "    if odds == [] or odds[0] == '':\n",
    "        odds = html.find_all('span', {'class': 'oddsValue'})\n",
    "        odds = [o.text for o in odds]\n",
    "    print('odds: '.rjust(15), odds)\n",
    "\n",
    "    print()"
   ]
  },
  {
   "cell_type": "code",
   "execution_count": null,
   "metadata": {},
   "outputs": [],
   "source": []
  },
  {
   "cell_type": "code",
   "execution_count": 48,
   "metadata": {},
   "outputs": [
    {
     "name": "stdout",
     "output_type": "stream",
     "text": [
      "#match-summary/match-summary\n",
      "#match-summary/player-statistics\n",
      "#match-summary/match-statistics\n",
      "#match-summary/lineups\n",
      "#match-summary/point-by-point\n"
     ]
    },
    {
     "ename": "AttributeError",
     "evalue": "'NoneType' object has no attribute 'find_all'",
     "output_type": "error",
     "traceback": [
      "\u001b[0;31m---------------------------------------------------------------------------\u001b[0m",
      "\u001b[0;31mAttributeError\u001b[0m                            Traceback (most recent call last)",
      "\u001b[0;32m<ipython-input-48-6d3affc5f230>\u001b[0m in \u001b[0;36m<module>\u001b[0;34m\u001b[0m\n\u001b[1;32m     11\u001b[0m \u001b[0;34m\u001b[0m\u001b[0m\n\u001b[1;32m     12\u001b[0m     \u001b[0mgo_to\u001b[0m\u001b[0;34m(\u001b[0m\u001b[0mlink\u001b[0m \u001b[0;34m+\u001b[0m \u001b[0;34m'#match-summary/match-statistics'\u001b[0m\u001b[0;34m)\u001b[0m\u001b[0;34m\u001b[0m\u001b[0;34m\u001b[0m\u001b[0m\n\u001b[0;32m---> 13\u001b[0;31m     \u001b[0;32mfor\u001b[0m \u001b[0mi\u001b[0m \u001b[0;32min\u001b[0m \u001b[0mhtml\u001b[0m\u001b[0;34m.\u001b[0m\u001b[0mfind\u001b[0m\u001b[0;34m(\u001b[0m\u001b[0;34m'a'\u001b[0m\u001b[0;34m,\u001b[0m \u001b[0;34m{\u001b[0m\u001b[0;34m'class'\u001b[0m\u001b[0;34m:\u001b[0m \u001b[0;34m'tabs__detail--sub'\u001b[0m\u001b[0;34m}\u001b[0m\u001b[0;34m)\u001b[0m\u001b[0;34m.\u001b[0m\u001b[0mfind_all\u001b[0m\u001b[0;34m(\u001b[0m\u001b[0;34m'a'\u001b[0m\u001b[0;34m,\u001b[0m \u001b[0;34m{\u001b[0m\u001b[0;34m'class'\u001b[0m\u001b[0;34m:\u001b[0m \u001b[0;34m'subTabs__tab'\u001b[0m\u001b[0;34m}\u001b[0m\u001b[0;34m)\u001b[0m\u001b[0;34m:\u001b[0m\u001b[0;34m\u001b[0m\u001b[0;34m\u001b[0m\u001b[0m\n\u001b[0m\u001b[1;32m     14\u001b[0m         \u001b[0mprint\u001b[0m\u001b[0;34m(\u001b[0m\u001b[0mi\u001b[0m\u001b[0;34m[\u001b[0m\u001b[0;34m'href'\u001b[0m\u001b[0;34m]\u001b[0m\u001b[0;34m)\u001b[0m\u001b[0;34m\u001b[0m\u001b[0;34m\u001b[0m\u001b[0m\n\u001b[1;32m     15\u001b[0m \u001b[0;34m\u001b[0m\u001b[0m\n",
      "\u001b[0;31mAttributeError\u001b[0m: 'NoneType' object has no attribute 'find_all'"
     ]
    }
   ],
   "source": [
    "with start_firefox(headless=True) as driver:\n",
    "    match_id = 'K8mNdAob'\n",
    "    link = f'flashscore.com/match/{match_id}/'\n",
    "    go_to(link)\n",
    "    sleep(.5)\n",
    "    source = driver.page_source\n",
    "    \n",
    "    links = []\n",
    "    for i in html.find('div', {'class': 'tabs__detail--nav'}).find_all('a', {'class': 'tabs__tab'}):\n",
    "        print(i['href'])\n",
    "\n",
    "    go_to(link + '#match-summary/match-statistics')\n",
    "    for i in html.find('a', {'class': 'tabs__detail--sub'}).find_all('a', {'class': 'subTabs__tab'}):\n",
    "        print(i['href'])\n",
    "\n",
    "    go_to(link + '#match-summary/point-by-point')\n",
    "    for i in html.find('div', {'class': 'tabs__detail--sub'}).find_all('a', {'class': 'subTabs__tab'}):\n",
    "        print(i['href'])\n"
   ]
  },
  {
   "cell_type": "code",
   "execution_count": 42,
   "metadata": {},
   "outputs": [
    {
     "name": "stdout",
     "output_type": "stream",
     "text": [
      "['#match-summary/match-summary', '#match-summary/player-statistics', '#match-summary/match-statistics', '#match-summary/lineups', '#match-summary/point-by-point']\n"
     ]
    }
   ],
   "source": [
    "links = []\n",
    "for i in html.find('div', {'class': 'tabs__detail--nav'}).find_all('a', {'class': 'tabs__tab'}):\n",
    "    links.append(i['href'])\n",
    "\n",
    "print(links)"
   ]
  },
  {
   "cell_type": "code",
   "execution_count": 41,
   "metadata": {},
   "outputs": [
    {
     "name": "stdout",
     "output_type": "stream",
     "text": [
      "         fase:  NBA\n",
      "         data:  30.10.2021 18:00\n",
      "        times:  ['Washington Wizards', 'Boston Celtics']\n",
      "       pontos:  115-112\n",
      "       status:  After Overtime\n",
      "         obs.:  2 extra times played.\n",
      "   stats casa:  []\n",
      "   stats fora:  []\n",
      "    odds casa:  None\n",
      "         odds:  []\n"
     ]
    }
   ],
   "source": [
    "html = BeautifulSoup(source, 'html.parser')\n",
    "\n",
    "fase = html.find('a', {'href': '/basketball/usa/nba/'}).text\n",
    "print('fase: '.rjust(15), fase)\n",
    "\n",
    "data = html.find('div', {'class': 'duelParticipant__startTime'}).text\n",
    "print('data: '.rjust(15), data)\n",
    "\n",
    "times = html.findAll('div', {'class': 'participant__participantName'})\n",
    "times = [t.text for t in times]\n",
    "print('times: '.rjust(15), times)\n",
    "\n",
    "pontos = html.find('div', {'class': 'detailScore__wrapper'}).text\n",
    "print('pontos: '.rjust(15), pontos)\n",
    "\n",
    "try:\n",
    "    status = html.find('div', {'class': 'detailScore__status'}).text\n",
    "    print('status: '.rjust(15), status)\n",
    "except:\n",
    "    print('status: '.rjust(15), None)\n",
    "\n",
    "try:        \n",
    "    obs = html.find('div', {'class': 'infoBox__info'}).text\n",
    "    print('obs.: '.rjust(15), obs)\n",
    "except:\n",
    "    print('obs.: '.rjust(15), None)\n",
    "\n",
    "stats_home = html.findAll('div', {'class': 'statHomeValue'})\n",
    "stats_home = [s.text for s in stats_home]\n",
    "print('stats casa: '.rjust(15), stats_home)\n",
    "\n",
    "stats_away = html.findAll('div', {'class': 'statAwayValue'})\n",
    "stats_away = [s.text for s in stats_away]\n",
    "print('stats fora: '.rjust(15), stats_away)\n",
    "\n",
    "try:\n",
    "    casa_de_aposta = html.find('img', {'class': 'prematchLogo'})['title']\n",
    "    print('odds casa: '.rjust(15), casa_de_aposta)\n",
    "except:\n",
    "    print('odds casa: '.rjust(15), None)\n",
    "\n",
    "odds = html.find_all('div', attrs={'class': 'cellWrapper'})\n",
    "odds = [o['title'] for o in odds]\n",
    "if odds == [] or odds[0] == '':\n",
    "    odds = html.find_all('span', {'class': 'oddsValue'})\n",
    "    odds = [o.text for o in odds]\n",
    "print('odds: '.rjust(15), odds)"
   ]
  }
 ],
 "metadata": {
  "interpreter": {
   "hash": "0e7d627822e00f1a8307a559f4b7a02c5bc1ec637296f8479c1ea7508025b7fd"
  },
  "kernelspec": {
   "display_name": "Python 3.8.10 64-bit ('venv': venv)",
   "language": "python",
   "name": "python3"
  },
  "language_info": {
   "codemirror_mode": {
    "name": "ipython",
    "version": 3
   },
   "file_extension": ".py",
   "mimetype": "text/x-python",
   "name": "python",
   "nbconvert_exporter": "python",
   "pygments_lexer": "ipython3",
   "version": "3.8.10"
  },
  "orig_nbformat": 4
 },
 "nbformat": 4,
 "nbformat_minor": 2
}
