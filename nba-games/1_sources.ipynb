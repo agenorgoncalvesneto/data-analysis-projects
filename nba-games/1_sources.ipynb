{
 "cells": [
  {
   "cell_type": "code",
   "execution_count": null,
   "metadata": {},
   "outputs": [],
   "source": [
    "import bs4\n",
    "import helium\n",
    "import selenium\n",
    "import sqlite3\n",
    "import time\n",
    "\n",
    "options = selenium.webdriver.FirefoxOptions()\n",
    "options.add_argument(\"--width=1024\")\n",
    "options.add_argument(\"--height=768\")\n",
    "options.add_argument(\"-headless\")"
   ]
  },
  {
   "cell_type": "code",
   "execution_count": null,
   "metadata": {},
   "outputs": [],
   "source": [
    "def create_db_sources(year):\n",
    "    with sqlite3.connect(f'data/sources/sources_{year}.db') as con:\n",
    "        query = f'''CREATE TABLE sources (\n",
    "            id TEXT NOT NULL PRIMARY KEY,\n",
    "            summary_source TEXT,\n",
    "            stats_source TEXT,\n",
    "            odds_source TEXT)\n",
    "            '''\n",
    "        cur = con.cursor()\n",
    "        cur.execute(query)"
   ]
  },
  {
   "cell_type": "code",
   "execution_count": null,
   "metadata": {},
   "outputs": [],
   "source": [
    "def populate_db_sources(year):\n",
    "    ids = get_ids_db_sources(year)\n",
    "    populate_db_sources_per_ids(ids, year)"
   ]
  },
  {
   "cell_type": "code",
   "execution_count": null,
   "metadata": {},
   "outputs": [],
   "source": [
    "def get_ids_db_sources(year):\n",
    "    url = f'flashscore.com/basketball/usa/nba-{year}-{year+1}/results/'\n",
    "    with helium.start_firefox(options=options) as driver:\n",
    "        helium.go_to(url)\n",
    "        time.sleep(2)\n",
    "        source = get_source(driver)\n",
    "    ids = get_ids(source)\n",
    "    return ids\n",
    "\n",
    "\n",
    "def get_source(driver):\n",
    "    end = False\n",
    "    while not end:\n",
    "        try:\n",
    "            driver.execute_script(\n",
    "                'window.scrollTo(0, document.body.scrollHeight);')\n",
    "            helium.click('Show more matches')\n",
    "            time.sleep(2)\n",
    "        except LookupError:\n",
    "            end = True\n",
    "    source = driver.page_source\n",
    "    return source\n",
    "\n",
    "\n",
    "def get_ids(source):\n",
    "    soup = bs4.BeautifulSoup(source, 'html.parser')\n",
    "    ids = soup.find_all('div', {'class': 'event__match'})\n",
    "    ids = [id_['id'] for id_ in ids]\n",
    "    ids = [id_.split('_')[-1] for id_ in ids]\n",
    "    return ids"
   ]
  },
  {
   "cell_type": "code",
   "execution_count": null,
   "metadata": {},
   "outputs": [],
   "source": [
    "def populate_db_sources_per_ids(ids, year):\n",
    "    with helium.start_firefox(options=options) as driver:\n",
    "        for i, id_ in enumerate(ids):\n",
    "            print(f'{id_} {i+1}/{len(ids)}')\n",
    "            values = get_values_db_sources(id_, driver)\n",
    "            values['id'] = id_\n",
    "            with sqlite3.connect(f'data/sources/sources_{year}.db') as con:\n",
    "                query = f'''INSERT INTO sources VALUES (\n",
    "                    :id,\n",
    "                    :summary_source,\n",
    "                    :stats_source,\n",
    "                    :odds_source)\n",
    "                    '''\n",
    "                cur = con.cursor()\n",
    "                cur.execute(query, values)"
   ]
  },
  {
   "cell_type": "code",
   "execution_count": null,
   "metadata": {},
   "outputs": [],
   "source": [
    "def get_values_db_sources(id_, driver):\n",
    "    keys = [\n",
    "        'summary_source',\n",
    "        'stats_source',\n",
    "        'odds_source',\n",
    "    ]\n",
    "    values = {key: None for key in keys}\n",
    "    url = f'flashscore.com/match/{id_}/'\n",
    "\n",
    "    href_summary = '#match-summary'\n",
    "    helium.go_to(f'{url}{href_summary}')\n",
    "    time.sleep(2)\n",
    "    soup = bs4.BeautifulSoup(driver.page_source, 'html.parser')\n",
    "    soup = soup.find('div', {'class': 'container__detail'})\n",
    "    values['summary_source'] = str(soup)\n",
    "\n",
    "    href_stats = '#match-summary/match-statistics'\n",
    "    if soup.find_all('a', {'href': href_stats}):\n",
    "        helium.go_to(f'{url}{href_stats}')\n",
    "        time.sleep(2)\n",
    "        soup = bs4.BeautifulSoup(driver.page_source, 'html.parser')\n",
    "        soup = soup.find('div', {'class': 'container__detail'})\n",
    "        values['stats_source'] = str(soup)\n",
    "\n",
    "    href_odds = '#odds-comparison'\n",
    "    if soup.find_all('a', {'href': href_odds}):\n",
    "        helium.go_to(f'{url}{href_odds}')\n",
    "        time.sleep(2)\n",
    "        soup = bs4.BeautifulSoup(driver.page_source, 'html.parser')\n",
    "        soup = soup.find('div', {'class': 'container__detail'})\n",
    "        values['odds_source'] = str(soup)\n",
    "\n",
    "    return values"
   ]
  },
  {
   "cell_type": "code",
   "execution_count": null,
   "metadata": {},
   "outputs": [],
   "source": [
    "create_db_sources(1995)\n",
    "populate_db_sources(1995)"
   ]
  }
 ],
 "metadata": {
  "interpreter": {
   "hash": "0e7d627822e00f1a8307a559f4b7a02c5bc1ec637296f8479c1ea7508025b7fd"
  },
  "kernelspec": {
   "display_name": "Python 3.8.10 64-bit ('venv': venv)",
   "language": "python",
   "name": "python3"
  },
  "language_info": {
   "codemirror_mode": {
    "name": "ipython",
    "version": 3
   },
   "file_extension": ".py",
   "mimetype": "text/x-python",
   "name": "python",
   "nbconvert_exporter": "python",
   "pygments_lexer": "ipython3",
   "version": "3.8.10"
  },
  "orig_nbformat": 4
 },
 "nbformat": 4,
 "nbformat_minor": 2
}
