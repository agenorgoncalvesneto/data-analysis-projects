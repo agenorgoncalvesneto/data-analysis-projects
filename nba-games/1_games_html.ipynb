{
 "cells": [
  {
   "cell_type": "code",
   "execution_count": 1,
   "metadata": {},
   "outputs": [],
   "source": [
    "import bs4\n",
    "import helium\n",
    "import selenium\n",
    "import sqlite3\n",
    "import time\n",
    "\n",
    "options = selenium.webdriver.FirefoxOptions()\n",
    "options.add_argument(\"--width=1024\")\n",
    "options.add_argument(\"--height=768\")\n",
    "options.add_argument(\"-headless\")"
   ]
  },
  {
   "cell_type": "code",
   "execution_count": 2,
   "metadata": {},
   "outputs": [],
   "source": [
    "def create_db_html_per_year(year):\n",
    "    with sqlite3.connect(f'data/html/html_{year}.db') as con:\n",
    "        query = '''CREATE TABLE html (\n",
    "            game_id TEXT NOT NULL PRIMARY KEY,\n",
    "            summary_html TEXT,\n",
    "            stats_html TEXT,\n",
    "            odds_html TEXT)\n",
    "            '''\n",
    "        cur = con.cursor()\n",
    "        cur.execute(query)"
   ]
  },
  {
   "cell_type": "code",
   "execution_count": 3,
   "metadata": {},
   "outputs": [],
   "source": [
    "def populate_db_html_per_year(year):\n",
    "    games_ids = get_games_ids_per_year(year)\n",
    "    populate_db_html_per_games_ids(games_ids, year)"
   ]
  },
  {
   "cell_type": "code",
   "execution_count": 4,
   "metadata": {},
   "outputs": [],
   "source": [
    "def get_games_ids_per_year(year):\n",
    "    url = f'flashscore.com/basketball/usa/nba-{year}-{year+1}/results/'\n",
    "    with helium.start_firefox(options=options) as driver:\n",
    "        helium.go_to(url)\n",
    "        time.sleep(2)\n",
    "        html = get_html_from_page(driver)\n",
    "    games_ids = get_games_ids_from_html(html)\n",
    "    return games_ids\n",
    "\n",
    "\n",
    "def get_html_from_page(driver):\n",
    "    end = False\n",
    "    while not end:\n",
    "        try:\n",
    "            time.sleep(2)\n",
    "            driver.execute_script('window.scrollTo(0, document.body.scrollHeight);')\n",
    "            helium.click('Show more matches')\n",
    "        except LookupError:\n",
    "            end = True\n",
    "    html = driver.page_source\n",
    "    return html\n",
    "\n",
    "\n",
    "def get_games_ids_from_html(html):\n",
    "    soup = bs4.BeautifulSoup(html, 'html.parser')\n",
    "    games_ids = soup.find_all('div', {'class': 'event__match'})\n",
    "    games_ids = [game_id['id'] for game_id in games_ids]\n",
    "    games_ids = [game_id.split('_')[-1] for game_id in games_ids]\n",
    "    return games_ids"
   ]
  },
  {
   "cell_type": "code",
   "execution_count": 5,
   "metadata": {},
   "outputs": [],
   "source": [
    "def populate_db_html_per_games_ids(games_ids, year):\n",
    "    with helium.start_firefox(options=options) as driver:\n",
    "        for i, game_id in zip(range(len(games_ids)), games_ids):\n",
    "            print(f'{game_id} {i+1}/{len(games_ids)}')\n",
    "            with sqlite3.connect(f'data/html/html_{year}.db') as con:\n",
    "                query = '''INSERT INTO html VALUES (\n",
    "                    :game_id,\n",
    "                    :summary_html,\n",
    "                    :stats_html,\n",
    "                    :odds_html)\n",
    "                    '''\n",
    "                row = get_row_db_html(game_id, driver)\n",
    "                cur = con.cursor()\n",
    "                cur.execute(query, row)"
   ]
  },
  {
   "cell_type": "code",
   "execution_count": 6,
   "metadata": {},
   "outputs": [],
   "source": [
    "def get_row_db_html(game_id, driver):\n",
    "    keys = [\n",
    "        'game_id',\n",
    "        'summary_html',\n",
    "        'stats_html',\n",
    "        'odds_html',\n",
    "    ]\n",
    "    row = {key: None for key in keys}\n",
    "    url = f'flashscore.com/match/{game_id}/'\n",
    "    helium.go_to(url)\n",
    "    time.sleep(2)\n",
    "    soup = bs4.BeautifulSoup(driver.page_source, 'html.parser')\n",
    "    \n",
    "    row['game_id'] = game_id\n",
    "\n",
    "    html = driver.page_source\n",
    "    soup = bs4.BeautifulSoup(html, 'html.parser')\n",
    "    soup = soup.find('div', {'class': 'container__detail'})\n",
    "    summary_html = str(soup)\n",
    "    row['summary_html'] = summary_html\n",
    "\n",
    "    if soup.find_all('a', {'href': '#match-summary/match-statistics'}):\n",
    "        helium.go_to(f'{url}#match-summary/match-statistics')\n",
    "        time.sleep(2)\n",
    "        html = driver.page_source\n",
    "        soup = bs4.BeautifulSoup(html, 'html.parser')\n",
    "        soup = soup.find('div', {'class': 'container__detail'})\n",
    "        stats_html = str(soup)\n",
    "        row['stats_html'] = stats_html\n",
    "\n",
    "    if soup.find_all('a', {'href': '#odds-comparison'}):\n",
    "        helium.go_to(f'{url}#odds-comparison')\n",
    "        time.sleep(2)\n",
    "        html = driver.page_source\n",
    "        soup = bs4.BeautifulSoup(html, 'html.parser')\n",
    "        soup = soup.find('div', {'class': 'container__detail'})\n",
    "        odds_html = str(soup)\n",
    "        row['odds_html'] = odds_html\n",
    "            \n",
    "    return row"
   ]
  },
  {
   "cell_type": "code",
   "execution_count": 7,
   "metadata": {},
   "outputs": [
    {
     "ename": "KeyboardInterrupt",
     "evalue": "",
     "output_type": "error",
     "traceback": [
      "\u001b[0;31m---------------------------------------------------------------------------\u001b[0m",
      "\u001b[0;31mKeyboardInterrupt\u001b[0m                         Traceback (most recent call last)",
      "\u001b[0;32m<ipython-input-7-42efbc942095>\u001b[0m in \u001b[0;36m<module>\u001b[0;34m\u001b[0m\n\u001b[1;32m      1\u001b[0m \u001b[0mcreate_db_html_per_year\u001b[0m\u001b[0;34m(\u001b[0m\u001b[0;36m2013\u001b[0m\u001b[0;34m)\u001b[0m\u001b[0;34m\u001b[0m\u001b[0;34m\u001b[0m\u001b[0m\n\u001b[0;32m----> 2\u001b[0;31m \u001b[0mpopulate_db_html_per_year\u001b[0m\u001b[0;34m(\u001b[0m\u001b[0;36m2013\u001b[0m\u001b[0;34m)\u001b[0m\u001b[0;34m\u001b[0m\u001b[0;34m\u001b[0m\u001b[0m\n\u001b[0m",
      "\u001b[0;32m<ipython-input-3-1e90552f12c2>\u001b[0m in \u001b[0;36mpopulate_db_html_per_year\u001b[0;34m(year)\u001b[0m\n\u001b[1;32m      1\u001b[0m \u001b[0;32mdef\u001b[0m \u001b[0mpopulate_db_html_per_year\u001b[0m\u001b[0;34m(\u001b[0m\u001b[0myear\u001b[0m\u001b[0;34m)\u001b[0m\u001b[0;34m:\u001b[0m\u001b[0;34m\u001b[0m\u001b[0;34m\u001b[0m\u001b[0m\n\u001b[0;32m----> 2\u001b[0;31m     \u001b[0mgames_ids\u001b[0m \u001b[0;34m=\u001b[0m \u001b[0mget_games_ids_per_year\u001b[0m\u001b[0;34m(\u001b[0m\u001b[0myear\u001b[0m\u001b[0;34m)\u001b[0m\u001b[0;34m\u001b[0m\u001b[0;34m\u001b[0m\u001b[0m\n\u001b[0m\u001b[1;32m      3\u001b[0m     \u001b[0mpopulate_db_html_per_games_ids\u001b[0m\u001b[0;34m(\u001b[0m\u001b[0mgames_ids\u001b[0m\u001b[0;34m,\u001b[0m \u001b[0myear\u001b[0m\u001b[0;34m)\u001b[0m\u001b[0;34m\u001b[0m\u001b[0;34m\u001b[0m\u001b[0m\n",
      "\u001b[0;32m<ipython-input-4-68cae72a3fd9>\u001b[0m in \u001b[0;36mget_games_ids_per_year\u001b[0;34m(year)\u001b[0m\n\u001b[1;32m      4\u001b[0m         \u001b[0mhelium\u001b[0m\u001b[0;34m.\u001b[0m\u001b[0mgo_to\u001b[0m\u001b[0;34m(\u001b[0m\u001b[0murl\u001b[0m\u001b[0;34m)\u001b[0m\u001b[0;34m\u001b[0m\u001b[0;34m\u001b[0m\u001b[0m\n\u001b[1;32m      5\u001b[0m         \u001b[0mtime\u001b[0m\u001b[0;34m.\u001b[0m\u001b[0msleep\u001b[0m\u001b[0;34m(\u001b[0m\u001b[0;36m2\u001b[0m\u001b[0;34m)\u001b[0m\u001b[0;34m\u001b[0m\u001b[0;34m\u001b[0m\u001b[0m\n\u001b[0;32m----> 6\u001b[0;31m         \u001b[0mhtml\u001b[0m \u001b[0;34m=\u001b[0m \u001b[0mget_html_from_page\u001b[0m\u001b[0;34m(\u001b[0m\u001b[0mdriver\u001b[0m\u001b[0;34m)\u001b[0m\u001b[0;34m\u001b[0m\u001b[0;34m\u001b[0m\u001b[0m\n\u001b[0m\u001b[1;32m      7\u001b[0m     \u001b[0mgames_ids\u001b[0m \u001b[0;34m=\u001b[0m \u001b[0mget_games_ids_from_html\u001b[0m\u001b[0;34m(\u001b[0m\u001b[0mhtml\u001b[0m\u001b[0;34m)\u001b[0m\u001b[0;34m\u001b[0m\u001b[0;34m\u001b[0m\u001b[0m\n\u001b[1;32m      8\u001b[0m     \u001b[0;32mreturn\u001b[0m \u001b[0mgames_ids\u001b[0m\u001b[0;34m\u001b[0m\u001b[0;34m\u001b[0m\u001b[0m\n",
      "\u001b[0;32m<ipython-input-4-68cae72a3fd9>\u001b[0m in \u001b[0;36mget_html_from_page\u001b[0;34m(driver)\u001b[0m\n\u001b[1;32m     13\u001b[0m     \u001b[0;32mwhile\u001b[0m \u001b[0;32mnot\u001b[0m \u001b[0mend\u001b[0m\u001b[0;34m:\u001b[0m\u001b[0;34m\u001b[0m\u001b[0;34m\u001b[0m\u001b[0m\n\u001b[1;32m     14\u001b[0m         \u001b[0;32mtry\u001b[0m\u001b[0;34m:\u001b[0m\u001b[0;34m\u001b[0m\u001b[0;34m\u001b[0m\u001b[0m\n\u001b[0;32m---> 15\u001b[0;31m             \u001b[0mtime\u001b[0m\u001b[0;34m.\u001b[0m\u001b[0msleep\u001b[0m\u001b[0;34m(\u001b[0m\u001b[0;36m2\u001b[0m\u001b[0;34m)\u001b[0m\u001b[0;34m\u001b[0m\u001b[0;34m\u001b[0m\u001b[0m\n\u001b[0m\u001b[1;32m     16\u001b[0m             \u001b[0mdriver\u001b[0m\u001b[0;34m.\u001b[0m\u001b[0mexecute_script\u001b[0m\u001b[0;34m(\u001b[0m\u001b[0;34m'window.scrollTo(0, document.body.scrollHeight);'\u001b[0m\u001b[0;34m)\u001b[0m\u001b[0;34m\u001b[0m\u001b[0;34m\u001b[0m\u001b[0m\n\u001b[1;32m     17\u001b[0m             \u001b[0mhelium\u001b[0m\u001b[0;34m.\u001b[0m\u001b[0mclick\u001b[0m\u001b[0;34m(\u001b[0m\u001b[0;34m'Show more matches'\u001b[0m\u001b[0;34m)\u001b[0m\u001b[0;34m\u001b[0m\u001b[0;34m\u001b[0m\u001b[0m\n",
      "\u001b[0;31mKeyboardInterrupt\u001b[0m: "
     ]
    }
   ],
   "source": [
    "create_db_html_per_year(2013)\n",
    "populate_db_html_per_year(2013)"
   ]
  }
 ],
 "metadata": {
  "interpreter": {
   "hash": "0e7d627822e00f1a8307a559f4b7a02c5bc1ec637296f8479c1ea7508025b7fd"
  },
  "kernelspec": {
   "display_name": "Python 3.8.10 64-bit ('venv': venv)",
   "language": "python",
   "name": "python3"
  },
  "language_info": {
   "codemirror_mode": {
    "name": "ipython",
    "version": 3
   },
   "file_extension": ".py",
   "mimetype": "text/x-python",
   "name": "python",
   "nbconvert_exporter": "python",
   "pygments_lexer": "ipython3",
   "version": "3.8.10"
  },
  "orig_nbformat": 4
 },
 "nbformat": 4,
 "nbformat_minor": 2
}
