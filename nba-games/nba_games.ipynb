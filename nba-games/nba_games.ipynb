{
 "cells": [
  {
   "cell_type": "markdown",
   "metadata": {},
   "source": [
    "# <p align=center> NBA Games"
   ]
  },
  {
   "cell_type": "markdown",
   "metadata": {},
   "source": [
    "## Sumary"
   ]
  },
  {
   "cell_type": "markdown",
   "metadata": {},
   "source": []
  },
  {
   "cell_type": "markdown",
   "metadata": {},
   "source": [
    "## About"
   ]
  },
  {
   "cell_type": "markdown",
   "metadata": {},
   "source": [
    "In this project, we are going to create an NBA games database from scraping data from the [flashscore](https://www.flashscore.com/basketball/usa/nba/) website."
   ]
  },
  {
   "cell_type": "markdown",
   "metadata": {},
   "source": [
    "## Setting up the environment"
   ]
  },
  {
   "cell_type": "code",
   "execution_count": 22,
   "metadata": {},
   "outputs": [],
   "source": [
    "import bs4\n",
    "import helium\n",
    "import selenium\n",
    "import sqlite3\n",
    "import time\n",
    "\n",
    "import queries\n",
    "import scripts"
   ]
  },
  {
   "cell_type": "code",
   "execution_count": 14,
   "metadata": {},
   "outputs": [],
   "source": [
    "options = selenium.webdriver.FirefoxOptions()\n",
    "options.add_argument(\"--width=1024\")\n",
    "options.add_argument(\"--height=768\")\n",
    "options.add_argument(\"-headless\")"
   ]
  },
  {
   "cell_type": "markdown",
   "metadata": {},
   "source": [
    "## Creating the sources database"
   ]
  },
  {
   "cell_type": "code",
   "execution_count": 7,
   "metadata": {},
   "outputs": [],
   "source": [
    "year = 2020"
   ]
  },
  {
   "cell_type": "code",
   "execution_count": 10,
   "metadata": {},
   "outputs": [],
   "source": [
    "path = f'data/sources/sources_{year}.db'\n",
    "with sqlite3.connect(path) as con:\n",
    "    query = queries.CREATE_TABLE_SOURCES\n",
    "    cur = con.cursor()\n",
    "    cur.execute(query)"
   ]
  },
  {
   "cell_type": "code",
   "execution_count": 11,
   "metadata": {},
   "outputs": [],
   "source": [
    "url = f'flashscore.com/basketball/usa/nba-{year}-{year+1}/results/'\n",
    "with helium.start_firefox() as driver:\n",
    "    helium.go_to(url)\n",
    "    time.sleep(2)\n",
    "    scripts.scroll_results_page(driver)\n",
    "    soup = bs4.BeautifulSoup(driver.page_source, 'html.parser')"
   ]
  },
  {
   "cell_type": "code",
   "execution_count": 21,
   "metadata": {},
   "outputs": [
    {
     "data": {
      "text/plain": [
       "['ULD28jPK', 'zBYhhpYl', '4nnd7v16', 'Qemh8Ko0', 'rXcm90Wg']"
      ]
     },
     "execution_count": 21,
     "metadata": {},
     "output_type": "execute_result"
    }
   ],
   "source": [
    "ids = soup.find_all('div', {'class': 'event__match'})\n",
    "ids = [id_['id'] for id_ in ids]\n",
    "ids = [id_.split('_')[-1] for id_ in ids]\n",
    "\n",
    "ids[:5]"
   ]
  },
  {
   "cell_type": "code",
   "execution_count": null,
   "metadata": {},
   "outputs": [],
   "source": [
    "def get_values_db_sources(id_, driver):\n",
    "    keys = [\n",
    "        'summary_source',\n",
    "        'stats_source',\n",
    "    ]\n",
    "    values = {key: None for key in keys}\n",
    "    values['id'] = id_\n",
    "    url = f'flashscore.com/match/{id_}/'\n",
    "\n",
    "    href_summary = '#match-summary'\n",
    "    helium.go_to(f'{url}{href_summary}')\n",
    "    time.sleep(2)\n",
    "    soup = bs4.BeautifulSoup(driver.page_source, 'html.parser')\n",
    "    soup = soup.find('div', {'class': 'container__detail'})\n",
    "    values['summary_source'] = str(soup)\n",
    "\n",
    "    href_stats = '#match-summary/match-statistics'\n",
    "    if soup.find_all('a', {'href': href_stats}):\n",
    "        helium.go_to(f'{url}{href_stats}')\n",
    "        time.sleep(2)\n",
    "        soup = bs4.BeautifulSoup(driver.page_source, 'html.parser')\n",
    "        soup = soup.find('div', {'class': 'container__detail'})\n",
    "        values['stats_source'] = str(soup)\n",
    "\n",
    "    return values"
   ]
  },
  {
   "cell_type": "code",
   "execution_count": null,
   "metadata": {},
   "outputs": [],
   "source": [
    "with helium.start_firefox(options=options) as driver:\n",
    "    for id_ in ids:\n",
    "        values = get_values_db_sources(id_, driver)        \n",
    "        with sqlite3.connect(f'data/sources/sources_{year}.db') as con:\n",
    "            query = queries.INSERT_INTO_SOURCES\n",
    "            cur = con.cursor()\n",
    "            cur.execute(query, values)"
   ]
  },
  {
   "cell_type": "markdown",
   "metadata": {},
   "source": [
    "## Creating the games database"
   ]
  },
  {
   "cell_type": "markdown",
   "metadata": {},
   "source": []
  },
  {
   "cell_type": "markdown",
   "metadata": {},
   "source": [
    "## Author"
   ]
  },
  {
   "cell_type": "markdown",
   "metadata": {},
   "source": []
  }
 ],
 "metadata": {
  "interpreter": {
   "hash": "0e7d627822e00f1a8307a559f4b7a02c5bc1ec637296f8479c1ea7508025b7fd"
  },
  "kernelspec": {
   "display_name": "Python 3.8.10 64-bit ('venv': venv)",
   "language": "python",
   "name": "python3"
  },
  "language_info": {
   "codemirror_mode": {
    "name": "ipython",
    "version": 3
   },
   "file_extension": ".py",
   "mimetype": "text/x-python",
   "name": "python",
   "nbconvert_exporter": "python",
   "pygments_lexer": "ipython3",
   "version": "3.8.10"
  },
  "orig_nbformat": 4
 },
 "nbformat": 4,
 "nbformat_minor": 2
}
