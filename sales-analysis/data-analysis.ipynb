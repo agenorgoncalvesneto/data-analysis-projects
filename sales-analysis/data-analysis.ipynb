{
 "cells": [
  {
   "cell_type": "markdown",
   "metadata": {},
   "source": [
    "### Importing packages"
   ]
  },
  {
   "cell_type": "markdown",
   "metadata": {},
   "source": [
    "Let's start importing the packages that we will use is this analysis."
   ]
  },
  {
   "cell_type": "code",
   "execution_count": 1,
   "metadata": {},
   "outputs": [],
   "source": [
    "import glob\n",
    "import itertools\n",
    "\n",
    "import matplotlib.pyplot as plt\n",
    "import numpy as np\n",
    "import pandas as pd\n",
    "\n",
    "%matplotlib inline"
   ]
  },
  {
   "cell_type": "markdown",
   "metadata": {},
   "source": [
    "---"
   ]
  },
  {
   "cell_type": "markdown",
   "metadata": {},
   "source": [
    "### Reading the data"
   ]
  },
  {
   "cell_type": "code",
   "execution_count": 2,
   "metadata": {},
   "outputs": [
    {
     "data": {
      "text/plain": [
       "['dataset/sales_01.csv',\n",
       " 'dataset/sales_02.csv',\n",
       " 'dataset/sales_03.csv',\n",
       " 'dataset/sales_04.csv',\n",
       " 'dataset/sales_05.csv',\n",
       " 'dataset/sales_06.csv',\n",
       " 'dataset/sales_07.csv',\n",
       " 'dataset/sales_08.csv',\n",
       " 'dataset/sales_09.csv',\n",
       " 'dataset/sales_10.csv',\n",
       " 'dataset/sales_11.csv',\n",
       " 'dataset/sales_12.csv']"
      ]
     },
     "execution_count": 2,
     "metadata": {},
     "output_type": "execute_result"
    }
   ],
   "source": [
    "paths = sorted(glob.glob('dataset/sales_[0-1][0-9].csv'))\n",
    "paths"
   ]
  },
  {
   "cell_type": "code",
   "execution_count": 3,
   "metadata": {},
   "outputs": [
    {
     "data": {
      "text/html": [
       "<div>\n",
       "<style scoped>\n",
       "    .dataframe tbody tr th:only-of-type {\n",
       "        vertical-align: middle;\n",
       "    }\n",
       "\n",
       "    .dataframe tbody tr th {\n",
       "        vertical-align: top;\n",
       "    }\n",
       "\n",
       "    .dataframe thead th {\n",
       "        text-align: right;\n",
       "    }\n",
       "</style>\n",
       "<table border=\"1\" class=\"dataframe\">\n",
       "  <thead>\n",
       "    <tr style=\"text-align: right;\">\n",
       "      <th></th>\n",
       "      <th>order_id</th>\n",
       "      <th>product</th>\n",
       "      <th>quantity_ordered</th>\n",
       "      <th>price_each</th>\n",
       "      <th>order_date</th>\n",
       "      <th>purchase_address</th>\n",
       "    </tr>\n",
       "  </thead>\n",
       "  <tbody>\n",
       "    <tr>\n",
       "      <th>0</th>\n",
       "      <td>141234</td>\n",
       "      <td>iPhone</td>\n",
       "      <td>1</td>\n",
       "      <td>700</td>\n",
       "      <td>01/22 21:25</td>\n",
       "      <td>944 Walnut St, Boston, MA 02215</td>\n",
       "    </tr>\n",
       "    <tr>\n",
       "      <th>1</th>\n",
       "      <td>141235</td>\n",
       "      <td>Lightning Charging Cable</td>\n",
       "      <td>1</td>\n",
       "      <td>14.95</td>\n",
       "      <td>01/28 14:15</td>\n",
       "      <td>185 Maple St, Portland, OR 97035</td>\n",
       "    </tr>\n",
       "    <tr>\n",
       "      <th>2</th>\n",
       "      <td>141236</td>\n",
       "      <td>Wired Headphones</td>\n",
       "      <td>2</td>\n",
       "      <td>11.99</td>\n",
       "      <td>01/17 13:33</td>\n",
       "      <td>538 Adams St, San Francisco, CA 94016</td>\n",
       "    </tr>\n",
       "    <tr>\n",
       "      <th>3</th>\n",
       "      <td>141237</td>\n",
       "      <td>27in FHD Monitor</td>\n",
       "      <td>1</td>\n",
       "      <td>149.99</td>\n",
       "      <td>01/05 20:33</td>\n",
       "      <td>738 10th St, Los Angeles, CA 90001</td>\n",
       "    </tr>\n",
       "    <tr>\n",
       "      <th>4</th>\n",
       "      <td>141238</td>\n",
       "      <td>Wired Headphones</td>\n",
       "      <td>1</td>\n",
       "      <td>11.99</td>\n",
       "      <td>01/25 11:59</td>\n",
       "      <td>387 10th St, Austin, TX 73301</td>\n",
       "    </tr>\n",
       "  </tbody>\n",
       "</table>\n",
       "</div>"
      ],
      "text/plain": [
       "  order_id                   product quantity_ordered price_each   order_date  \\\n",
       "0   141234                    iPhone                1        700  01/22 21:25   \n",
       "1   141235  Lightning Charging Cable                1      14.95  01/28 14:15   \n",
       "2   141236          Wired Headphones                2      11.99  01/17 13:33   \n",
       "3   141237          27in FHD Monitor                1     149.99  01/05 20:33   \n",
       "4   141238          Wired Headphones                1      11.99  01/25 11:59   \n",
       "\n",
       "                        purchase_address  \n",
       "0        944 Walnut St, Boston, MA 02215  \n",
       "1       185 Maple St, Portland, OR 97035  \n",
       "2  538 Adams St, San Francisco, CA 94016  \n",
       "3     738 10th St, Los Angeles, CA 90001  \n",
       "4          387 10th St, Austin, TX 73301  "
      ]
     },
     "execution_count": 3,
     "metadata": {},
     "output_type": "execute_result"
    }
   ],
   "source": [
    "sales = pd.concat([pd.read_csv(path) for path in paths])\n",
    "sales.head()"
   ]
  },
  {
   "cell_type": "markdown",
   "metadata": {},
   "source": [
    "---"
   ]
  },
  {
   "cell_type": "markdown",
   "metadata": {},
   "source": [
    "### Cleaning the data"
   ]
  },
  {
   "cell_type": "code",
   "execution_count": 4,
   "metadata": {},
   "outputs": [
    {
     "data": {
      "text/html": [
       "<div>\n",
       "<style scoped>\n",
       "    .dataframe tbody tr th:only-of-type {\n",
       "        vertical-align: middle;\n",
       "    }\n",
       "\n",
       "    .dataframe tbody tr th {\n",
       "        vertical-align: top;\n",
       "    }\n",
       "\n",
       "    .dataframe thead th {\n",
       "        text-align: right;\n",
       "    }\n",
       "</style>\n",
       "<table border=\"1\" class=\"dataframe\">\n",
       "  <thead>\n",
       "    <tr style=\"text-align: right;\">\n",
       "      <th></th>\n",
       "      <th>order_id</th>\n",
       "      <th>product</th>\n",
       "      <th>quantity_ordered</th>\n",
       "      <th>price_each</th>\n",
       "      <th>order_date</th>\n",
       "      <th>purchase_address</th>\n",
       "    </tr>\n",
       "  </thead>\n",
       "  <tbody>\n",
       "    <tr>\n",
       "      <th>664</th>\n",
       "      <td>NaN</td>\n",
       "      <td>NaN</td>\n",
       "      <td>NaN</td>\n",
       "      <td>NaN</td>\n",
       "      <td>NaN</td>\n",
       "      <td>NaN</td>\n",
       "    </tr>\n",
       "    <tr>\n",
       "      <th>678</th>\n",
       "      <td>NaN</td>\n",
       "      <td>NaN</td>\n",
       "      <td>NaN</td>\n",
       "      <td>NaN</td>\n",
       "      <td>NaN</td>\n",
       "      <td>NaN</td>\n",
       "    </tr>\n",
       "    <tr>\n",
       "      <th>797</th>\n",
       "      <td>NaN</td>\n",
       "      <td>NaN</td>\n",
       "      <td>NaN</td>\n",
       "      <td>NaN</td>\n",
       "      <td>NaN</td>\n",
       "      <td>NaN</td>\n",
       "    </tr>\n",
       "    <tr>\n",
       "      <th>876</th>\n",
       "      <td>NaN</td>\n",
       "      <td>NaN</td>\n",
       "      <td>NaN</td>\n",
       "      <td>NaN</td>\n",
       "      <td>NaN</td>\n",
       "      <td>NaN</td>\n",
       "    </tr>\n",
       "    <tr>\n",
       "      <th>1299</th>\n",
       "      <td>NaN</td>\n",
       "      <td>NaN</td>\n",
       "      <td>NaN</td>\n",
       "      <td>NaN</td>\n",
       "      <td>NaN</td>\n",
       "      <td>NaN</td>\n",
       "    </tr>\n",
       "  </tbody>\n",
       "</table>\n",
       "</div>"
      ],
      "text/plain": [
       "     order_id product quantity_ordered price_each order_date purchase_address\n",
       "664       NaN     NaN              NaN        NaN        NaN              NaN\n",
       "678       NaN     NaN              NaN        NaN        NaN              NaN\n",
       "797       NaN     NaN              NaN        NaN        NaN              NaN\n",
       "876       NaN     NaN              NaN        NaN        NaN              NaN\n",
       "1299      NaN     NaN              NaN        NaN        NaN              NaN"
      ]
     },
     "execution_count": 4,
     "metadata": {},
     "output_type": "execute_result"
    }
   ],
   "source": [
    "sales[sales.isnull().any(axis=1)].head()"
   ]
  },
  {
   "cell_type": "code",
   "execution_count": 5,
   "metadata": {},
   "outputs": [
    {
     "data": {
      "text/html": [
       "<div>\n",
       "<style scoped>\n",
       "    .dataframe tbody tr th:only-of-type {\n",
       "        vertical-align: middle;\n",
       "    }\n",
       "\n",
       "    .dataframe tbody tr th {\n",
       "        vertical-align: top;\n",
       "    }\n",
       "\n",
       "    .dataframe thead th {\n",
       "        text-align: right;\n",
       "    }\n",
       "</style>\n",
       "<table border=\"1\" class=\"dataframe\">\n",
       "  <thead>\n",
       "    <tr style=\"text-align: right;\">\n",
       "      <th></th>\n",
       "      <th>order_id</th>\n",
       "      <th>product</th>\n",
       "      <th>quantity_ordered</th>\n",
       "      <th>price_each</th>\n",
       "      <th>order_date</th>\n",
       "      <th>purchase_address</th>\n",
       "    </tr>\n",
       "  </thead>\n",
       "  <tbody>\n",
       "    <tr>\n",
       "      <th>1073</th>\n",
       "      <td>order_id</td>\n",
       "      <td>product</td>\n",
       "      <td>quantity_ordered</td>\n",
       "      <td>price_each</td>\n",
       "      <td>order _date</td>\n",
       "      <td>purchase_address</td>\n",
       "    </tr>\n",
       "    <tr>\n",
       "      <th>1102</th>\n",
       "      <td>order_id</td>\n",
       "      <td>product</td>\n",
       "      <td>quantity_ordered</td>\n",
       "      <td>price_each</td>\n",
       "      <td>order _date</td>\n",
       "      <td>purchase_address</td>\n",
       "    </tr>\n",
       "    <tr>\n",
       "      <th>1194</th>\n",
       "      <td>order_id</td>\n",
       "      <td>product</td>\n",
       "      <td>quantity_ordered</td>\n",
       "      <td>price_each</td>\n",
       "      <td>order _date</td>\n",
       "      <td>purchase_address</td>\n",
       "    </tr>\n",
       "    <tr>\n",
       "      <th>1897</th>\n",
       "      <td>order_id</td>\n",
       "      <td>product</td>\n",
       "      <td>quantity_ordered</td>\n",
       "      <td>price_each</td>\n",
       "      <td>order _date</td>\n",
       "      <td>purchase_address</td>\n",
       "    </tr>\n",
       "    <tr>\n",
       "      <th>2463</th>\n",
       "      <td>order_id</td>\n",
       "      <td>product</td>\n",
       "      <td>quantity_ordered</td>\n",
       "      <td>price_each</td>\n",
       "      <td>order _date</td>\n",
       "      <td>purchase_address</td>\n",
       "    </tr>\n",
       "  </tbody>\n",
       "</table>\n",
       "</div>"
      ],
      "text/plain": [
       "      order_id  product  quantity_ordered  price_each   order_date  \\\n",
       "1073  order_id  product  quantity_ordered  price_each  order _date   \n",
       "1102  order_id  product  quantity_ordered  price_each  order _date   \n",
       "1194  order_id  product  quantity_ordered  price_each  order _date   \n",
       "1897  order_id  product  quantity_ordered  price_each  order _date   \n",
       "2463  order_id  product  quantity_ordered  price_each  order _date   \n",
       "\n",
       "      purchase_address  \n",
       "1073  purchase_address  \n",
       "1102  purchase_address  \n",
       "1194  purchase_address  \n",
       "1897  purchase_address  \n",
       "2463  purchase_address  "
      ]
     },
     "execution_count": 5,
     "metadata": {},
     "output_type": "execute_result"
    }
   ],
   "source": [
    "sales[sales['product'] == 'product'].head()"
   ]
  },
  {
   "cell_type": "code",
   "execution_count": 6,
   "metadata": {},
   "outputs": [],
   "source": [
    "sales = sales.dropna(how='all')\n",
    "sales = sales[sales['product'] != 'product']"
   ]
  },
  {
   "cell_type": "code",
   "execution_count": 7,
   "metadata": {},
   "outputs": [],
   "source": [
    "sales.to_csv('dataset/sales.csv', index=False)"
   ]
  },
  {
   "cell_type": "markdown",
   "metadata": {},
   "source": [
    "---"
   ]
  },
  {
   "cell_type": "markdown",
   "metadata": {},
   "source": [
    "### Analysing the data"
   ]
  },
  {
   "cell_type": "code",
   "execution_count": 8,
   "metadata": {},
   "outputs": [],
   "source": [
    "sales = pd.read_csv('dataset/sales.csv')"
   ]
  },
  {
   "cell_type": "code",
   "execution_count": 9,
   "metadata": {},
   "outputs": [
    {
     "data": {
      "text/plain": [
       "0    01/22 21:25\n",
       "1    01/28 14:15\n",
       "2    01/17 13:33\n",
       "3    01/05 20:33\n",
       "4    01/25 11:59\n",
       "Name: order_date, dtype: object"
      ]
     },
     "execution_count": 9,
     "metadata": {},
     "output_type": "execute_result"
    }
   ],
   "source": [
    "sales['order_date'].head()"
   ]
  },
  {
   "cell_type": "code",
   "execution_count": 10,
   "metadata": {},
   "outputs": [],
   "source": [
    "sales['order_date'] = pd.to_datetime(sales['order_date'], format='%m/%d %H:%M')"
   ]
  },
  {
   "cell_type": "code",
   "execution_count": 11,
   "metadata": {},
   "outputs": [
    {
     "name": "stdout",
     "output_type": "stream",
     "text": [
      "<class 'pandas.core.frame.DataFrame'>\n",
      "RangeIndex: 185950 entries, 0 to 185949\n",
      "Data columns (total 6 columns):\n",
      " #   Column            Non-Null Count   Dtype         \n",
      "---  ------            --------------   -----         \n",
      " 0   order_id          185950 non-null  int64         \n",
      " 1   product           185950 non-null  object        \n",
      " 2   quantity_ordered  185950 non-null  int64         \n",
      " 3   price_each        185950 non-null  float64       \n",
      " 4   order_date        185950 non-null  datetime64[ns]\n",
      " 5   purchase_address  185950 non-null  object        \n",
      "dtypes: datetime64[ns](1), float64(1), int64(2), object(2)\n",
      "memory usage: 7.1+ MB\n"
     ]
    }
   ],
   "source": [
    "sales.info()"
   ]
  },
  {
   "cell_type": "markdown",
   "metadata": {},
   "source": [
    "#### a) What products had the most sales?"
   ]
  },
  {
   "cell_type": "code",
   "execution_count": 12,
   "metadata": {},
   "outputs": [
    {
     "data": {
      "text/html": [
       "<div>\n",
       "<style scoped>\n",
       "    .dataframe tbody tr th:only-of-type {\n",
       "        vertical-align: middle;\n",
       "    }\n",
       "\n",
       "    .dataframe tbody tr th {\n",
       "        vertical-align: top;\n",
       "    }\n",
       "\n",
       "    .dataframe thead th {\n",
       "        text-align: right;\n",
       "    }\n",
       "</style>\n",
       "<table border=\"1\" class=\"dataframe\">\n",
       "  <thead>\n",
       "    <tr style=\"text-align: right;\">\n",
       "      <th></th>\n",
       "      <th>order_id</th>\n",
       "      <th>product</th>\n",
       "      <th>quantity_ordered</th>\n",
       "      <th>price_each</th>\n",
       "      <th>order_date</th>\n",
       "      <th>purchase_address</th>\n",
       "      <th>price_total</th>\n",
       "    </tr>\n",
       "  </thead>\n",
       "  <tbody>\n",
       "    <tr>\n",
       "      <th>0</th>\n",
       "      <td>141234</td>\n",
       "      <td>iPhone</td>\n",
       "      <td>1</td>\n",
       "      <td>700.00</td>\n",
       "      <td>1900-01-22 21:25:00</td>\n",
       "      <td>944 Walnut St, Boston, MA 02215</td>\n",
       "      <td>700.00</td>\n",
       "    </tr>\n",
       "    <tr>\n",
       "      <th>1</th>\n",
       "      <td>141235</td>\n",
       "      <td>Lightning Charging Cable</td>\n",
       "      <td>1</td>\n",
       "      <td>14.95</td>\n",
       "      <td>1900-01-28 14:15:00</td>\n",
       "      <td>185 Maple St, Portland, OR 97035</td>\n",
       "      <td>14.95</td>\n",
       "    </tr>\n",
       "    <tr>\n",
       "      <th>2</th>\n",
       "      <td>141236</td>\n",
       "      <td>Wired Headphones</td>\n",
       "      <td>2</td>\n",
       "      <td>11.99</td>\n",
       "      <td>1900-01-17 13:33:00</td>\n",
       "      <td>538 Adams St, San Francisco, CA 94016</td>\n",
       "      <td>23.98</td>\n",
       "    </tr>\n",
       "    <tr>\n",
       "      <th>3</th>\n",
       "      <td>141237</td>\n",
       "      <td>27in FHD Monitor</td>\n",
       "      <td>1</td>\n",
       "      <td>149.99</td>\n",
       "      <td>1900-01-05 20:33:00</td>\n",
       "      <td>738 10th St, Los Angeles, CA 90001</td>\n",
       "      <td>149.99</td>\n",
       "    </tr>\n",
       "    <tr>\n",
       "      <th>4</th>\n",
       "      <td>141238</td>\n",
       "      <td>Wired Headphones</td>\n",
       "      <td>1</td>\n",
       "      <td>11.99</td>\n",
       "      <td>1900-01-25 11:59:00</td>\n",
       "      <td>387 10th St, Austin, TX 73301</td>\n",
       "      <td>11.99</td>\n",
       "    </tr>\n",
       "  </tbody>\n",
       "</table>\n",
       "</div>"
      ],
      "text/plain": [
       "   order_id                   product  quantity_ordered  price_each  \\\n",
       "0    141234                    iPhone                 1      700.00   \n",
       "1    141235  Lightning Charging Cable                 1       14.95   \n",
       "2    141236          Wired Headphones                 2       11.99   \n",
       "3    141237          27in FHD Monitor                 1      149.99   \n",
       "4    141238          Wired Headphones                 1       11.99   \n",
       "\n",
       "           order_date                       purchase_address  price_total  \n",
       "0 1900-01-22 21:25:00        944 Walnut St, Boston, MA 02215       700.00  \n",
       "1 1900-01-28 14:15:00       185 Maple St, Portland, OR 97035        14.95  \n",
       "2 1900-01-17 13:33:00  538 Adams St, San Francisco, CA 94016        23.98  \n",
       "3 1900-01-05 20:33:00     738 10th St, Los Angeles, CA 90001       149.99  \n",
       "4 1900-01-25 11:59:00          387 10th St, Austin, TX 73301        11.99  "
      ]
     },
     "execution_count": 12,
     "metadata": {},
     "output_type": "execute_result"
    }
   ],
   "source": [
    "sales['price_total'] = sales['quantity_ordered'] * sales['price_each']\n",
    "sales.head()"
   ]
  },
  {
   "cell_type": "code",
   "execution_count": 13,
   "metadata": {},
   "outputs": [
    {
     "data": {
      "text/plain": [
       "product\n",
       "20in Monitor               454148.71\n",
       "27in 4K Gaming Monitor    2435097.56\n",
       "27in FHD Monitor          1132424.50\n",
       "34in Ultrawide Monitor    2355558.01\n",
       "AA Batteries (4-pack)      106118.40\n",
       "Name: price_total, dtype: float64"
      ]
     },
     "execution_count": 13,
     "metadata": {},
     "output_type": "execute_result"
    }
   ],
   "source": [
    "per_product = sales.groupby('product')['price_total'].sum()\n",
    "per_product.head()"
   ]
  },
  {
   "cell_type": "code",
   "execution_count": 14,
   "metadata": {},
   "outputs": [
    {
     "data": {
      "image/png": "[encoded data removed]",
      "text/plain": [
       "<Figure size 720x432 with 1 Axes>"
      ]
     },
     "metadata": {
      "needs_background": "light"
     },
     "output_type": "display_data"
    }
   ],
   "source": [
    "plt.figure(figsize=(10, 6))\n",
    "\n",
    "plt.bar(per_product.index, per_product.values)\n",
    "\n",
    "plt.title('Sales per Product')\n",
    "plt.xlabel('Product')\n",
    "plt.ylabel('Sales in USD')\n",
    "plt.xticks(rotation='vertical')\n",
    "\n",
    "plt.show()"
   ]
  },
  {
   "cell_type": "markdown",
   "metadata": {},
   "source": [
    "#### b) What cities had the most sales?"
   ]
  },
  {
   "cell_type": "code",
   "execution_count": 15,
   "metadata": {},
   "outputs": [
    {
     "data": {
      "text/html": [
       "<div>\n",
       "<style scoped>\n",
       "    .dataframe tbody tr th:only-of-type {\n",
       "        vertical-align: middle;\n",
       "    }\n",
       "\n",
       "    .dataframe tbody tr th {\n",
       "        vertical-align: top;\n",
       "    }\n",
       "\n",
       "    .dataframe thead th {\n",
       "        text-align: right;\n",
       "    }\n",
       "</style>\n",
       "<table border=\"1\" class=\"dataframe\">\n",
       "  <thead>\n",
       "    <tr style=\"text-align: right;\">\n",
       "      <th></th>\n",
       "      <th>order_id</th>\n",
       "      <th>product</th>\n",
       "      <th>quantity_ordered</th>\n",
       "      <th>price_each</th>\n",
       "      <th>order_date</th>\n",
       "      <th>purchase_address</th>\n",
       "      <th>price_total</th>\n",
       "      <th>purchase_city</th>\n",
       "    </tr>\n",
       "  </thead>\n",
       "  <tbody>\n",
       "    <tr>\n",
       "      <th>0</th>\n",
       "      <td>141234</td>\n",
       "      <td>iPhone</td>\n",
       "      <td>1</td>\n",
       "      <td>700.00</td>\n",
       "      <td>1900-01-22 21:25:00</td>\n",
       "      <td>944 Walnut St, Boston, MA 02215</td>\n",
       "      <td>700.00</td>\n",
       "      <td>Boston, MA</td>\n",
       "    </tr>\n",
       "    <tr>\n",
       "      <th>1</th>\n",
       "      <td>141235</td>\n",
       "      <td>Lightning Charging Cable</td>\n",
       "      <td>1</td>\n",
       "      <td>14.95</td>\n",
       "      <td>1900-01-28 14:15:00</td>\n",
       "      <td>185 Maple St, Portland, OR 97035</td>\n",
       "      <td>14.95</td>\n",
       "      <td>Portland, OR</td>\n",
       "    </tr>\n",
       "    <tr>\n",
       "      <th>2</th>\n",
       "      <td>141236</td>\n",
       "      <td>Wired Headphones</td>\n",
       "      <td>2</td>\n",
       "      <td>11.99</td>\n",
       "      <td>1900-01-17 13:33:00</td>\n",
       "      <td>538 Adams St, San Francisco, CA 94016</td>\n",
       "      <td>23.98</td>\n",
       "      <td>San Francisco, CA</td>\n",
       "    </tr>\n",
       "    <tr>\n",
       "      <th>3</th>\n",
       "      <td>141237</td>\n",
       "      <td>27in FHD Monitor</td>\n",
       "      <td>1</td>\n",
       "      <td>149.99</td>\n",
       "      <td>1900-01-05 20:33:00</td>\n",
       "      <td>738 10th St, Los Angeles, CA 90001</td>\n",
       "      <td>149.99</td>\n",
       "      <td>Los Angeles, CA</td>\n",
       "    </tr>\n",
       "    <tr>\n",
       "      <th>4</th>\n",
       "      <td>141238</td>\n",
       "      <td>Wired Headphones</td>\n",
       "      <td>1</td>\n",
       "      <td>11.99</td>\n",
       "      <td>1900-01-25 11:59:00</td>\n",
       "      <td>387 10th St, Austin, TX 73301</td>\n",
       "      <td>11.99</td>\n",
       "      <td>Austin, TX</td>\n",
       "    </tr>\n",
       "  </tbody>\n",
       "</table>\n",
       "</div>"
      ],
      "text/plain": [
       "   order_id                   product  quantity_ordered  price_each  \\\n",
       "0    141234                    iPhone                 1      700.00   \n",
       "1    141235  Lightning Charging Cable                 1       14.95   \n",
       "2    141236          Wired Headphones                 2       11.99   \n",
       "3    141237          27in FHD Monitor                 1      149.99   \n",
       "4    141238          Wired Headphones                 1       11.99   \n",
       "\n",
       "           order_date                       purchase_address  price_total  \\\n",
       "0 1900-01-22 21:25:00        944 Walnut St, Boston, MA 02215       700.00   \n",
       "1 1900-01-28 14:15:00       185 Maple St, Portland, OR 97035        14.95   \n",
       "2 1900-01-17 13:33:00  538 Adams St, San Francisco, CA 94016        23.98   \n",
       "3 1900-01-05 20:33:00     738 10th St, Los Angeles, CA 90001       149.99   \n",
       "4 1900-01-25 11:59:00          387 10th St, Austin, TX 73301        11.99   \n",
       "\n",
       "       purchase_city  \n",
       "0         Boston, MA  \n",
       "1       Portland, OR  \n",
       "2  San Francisco, CA  \n",
       "3    Los Angeles, CA  \n",
       "4         Austin, TX  "
      ]
     },
     "execution_count": 15,
     "metadata": {},
     "output_type": "execute_result"
    }
   ],
   "source": [
    "def get_city(address):\n",
    "    city = address.split(', ')[1]\n",
    "    state = address.split()[-2]\n",
    "    return f'{city}, {state}'\n",
    "\n",
    "sales['purchase_city'] = sales['purchase_address'].map(get_city)\n",
    "sales.head()"
   ]
  },
  {
   "cell_type": "code",
   "execution_count": 16,
   "metadata": {},
   "outputs": [
    {
     "data": {
      "text/plain": [
       "purchase_city\n",
       "Atlanta, GA        2.795499e+06\n",
       "Austin, TX         1.819582e+06\n",
       "Boston, MA         3.661642e+06\n",
       "Dallas, TX         2.767975e+06\n",
       "Los Angeles, CA    5.452571e+06\n",
       "Name: price_total, dtype: float64"
      ]
     },
     "execution_count": 16,
     "metadata": {},
     "output_type": "execute_result"
    }
   ],
   "source": [
    "per_city = sales.groupby('purchase_city')['price_total'].sum()\n",
    "per_city.head()"
   ]
  },
  {
   "cell_type": "code",
   "execution_count": 17,
   "metadata": {},
   "outputs": [
    {
     "data": {
      "image/png": "[encoded data removed]",
      "text/plain": [
       "<Figure size 648x432 with 1 Axes>"
      ]
     },
     "metadata": {
      "needs_background": "light"
     },
     "output_type": "display_data"
    }
   ],
   "source": [
    "plt.figure(figsize=(9, 6))\n",
    "\n",
    "plt.bar(per_city.index, per_city.values)\n",
    "\n",
    "plt.title('Sales per City')\n",
    "plt.xlabel('City')\n",
    "plt.ylabel('Sales in USD')\n",
    "plt.xticks(rotation='vertical')\n",
    "\n",
    "plt.show()"
   ]
  },
  {
   "cell_type": "markdown",
   "metadata": {},
   "source": [
    "#### c) What time should we display advertisiments to maximize likelihood of custumer's buiying product?"
   ]
  },
  {
   "cell_type": "code",
   "execution_count": 18,
   "metadata": {},
   "outputs": [
    {
     "data": {
      "text/html": [
       "<div>\n",
       "<style scoped>\n",
       "    .dataframe tbody tr th:only-of-type {\n",
       "        vertical-align: middle;\n",
       "    }\n",
       "\n",
       "    .dataframe tbody tr th {\n",
       "        vertical-align: top;\n",
       "    }\n",
       "\n",
       "    .dataframe thead th {\n",
       "        text-align: right;\n",
       "    }\n",
       "</style>\n",
       "<table border=\"1\" class=\"dataframe\">\n",
       "  <thead>\n",
       "    <tr style=\"text-align: right;\">\n",
       "      <th></th>\n",
       "      <th>order_id</th>\n",
       "      <th>product</th>\n",
       "      <th>quantity_ordered</th>\n",
       "      <th>price_each</th>\n",
       "      <th>order_date</th>\n",
       "      <th>purchase_address</th>\n",
       "      <th>price_total</th>\n",
       "      <th>purchase_city</th>\n",
       "      <th>order_hour</th>\n",
       "    </tr>\n",
       "  </thead>\n",
       "  <tbody>\n",
       "    <tr>\n",
       "      <th>0</th>\n",
       "      <td>141234</td>\n",
       "      <td>iPhone</td>\n",
       "      <td>1</td>\n",
       "      <td>700.00</td>\n",
       "      <td>1900-01-22 21:25:00</td>\n",
       "      <td>944 Walnut St, Boston, MA 02215</td>\n",
       "      <td>700.00</td>\n",
       "      <td>Boston, MA</td>\n",
       "      <td>21</td>\n",
       "    </tr>\n",
       "    <tr>\n",
       "      <th>1</th>\n",
       "      <td>141235</td>\n",
       "      <td>Lightning Charging Cable</td>\n",
       "      <td>1</td>\n",
       "      <td>14.95</td>\n",
       "      <td>1900-01-28 14:15:00</td>\n",
       "      <td>185 Maple St, Portland, OR 97035</td>\n",
       "      <td>14.95</td>\n",
       "      <td>Portland, OR</td>\n",
       "      <td>14</td>\n",
       "    </tr>\n",
       "    <tr>\n",
       "      <th>2</th>\n",
       "      <td>141236</td>\n",
       "      <td>Wired Headphones</td>\n",
       "      <td>2</td>\n",
       "      <td>11.99</td>\n",
       "      <td>1900-01-17 13:33:00</td>\n",
       "      <td>538 Adams St, San Francisco, CA 94016</td>\n",
       "      <td>23.98</td>\n",
       "      <td>San Francisco, CA</td>\n",
       "      <td>13</td>\n",
       "    </tr>\n",
       "    <tr>\n",
       "      <th>3</th>\n",
       "      <td>141237</td>\n",
       "      <td>27in FHD Monitor</td>\n",
       "      <td>1</td>\n",
       "      <td>149.99</td>\n",
       "      <td>1900-01-05 20:33:00</td>\n",
       "      <td>738 10th St, Los Angeles, CA 90001</td>\n",
       "      <td>149.99</td>\n",
       "      <td>Los Angeles, CA</td>\n",
       "      <td>20</td>\n",
       "    </tr>\n",
       "    <tr>\n",
       "      <th>4</th>\n",
       "      <td>141238</td>\n",
       "      <td>Wired Headphones</td>\n",
       "      <td>1</td>\n",
       "      <td>11.99</td>\n",
       "      <td>1900-01-25 11:59:00</td>\n",
       "      <td>387 10th St, Austin, TX 73301</td>\n",
       "      <td>11.99</td>\n",
       "      <td>Austin, TX</td>\n",
       "      <td>11</td>\n",
       "    </tr>\n",
       "  </tbody>\n",
       "</table>\n",
       "</div>"
      ],
      "text/plain": [
       "   order_id                   product  quantity_ordered  price_each  \\\n",
       "0    141234                    iPhone                 1      700.00   \n",
       "1    141235  Lightning Charging Cable                 1       14.95   \n",
       "2    141236          Wired Headphones                 2       11.99   \n",
       "3    141237          27in FHD Monitor                 1      149.99   \n",
       "4    141238          Wired Headphones                 1       11.99   \n",
       "\n",
       "           order_date                       purchase_address  price_total  \\\n",
       "0 1900-01-22 21:25:00        944 Walnut St, Boston, MA 02215       700.00   \n",
       "1 1900-01-28 14:15:00       185 Maple St, Portland, OR 97035        14.95   \n",
       "2 1900-01-17 13:33:00  538 Adams St, San Francisco, CA 94016        23.98   \n",
       "3 1900-01-05 20:33:00     738 10th St, Los Angeles, CA 90001       149.99   \n",
       "4 1900-01-25 11:59:00          387 10th St, Austin, TX 73301        11.99   \n",
       "\n",
       "       purchase_city  order_hour  \n",
       "0         Boston, MA          21  \n",
       "1       Portland, OR          14  \n",
       "2  San Francisco, CA          13  \n",
       "3    Los Angeles, CA          20  \n",
       "4         Austin, TX          11  "
      ]
     },
     "execution_count": 18,
     "metadata": {},
     "output_type": "execute_result"
    }
   ],
   "source": [
    "sales['order_hour'] = sales['order_date'].dt.hour\n",
    "sales.head()"
   ]
  },
  {
   "cell_type": "code",
   "execution_count": 19,
   "metadata": {},
   "outputs": [
    {
     "data": {
      "text/plain": [
       "order_hour\n",
       "0    713721.27\n",
       "1    460866.88\n",
       "2    234851.44\n",
       "3    145757.89\n",
       "4    162661.01\n",
       "Name: price_total, dtype: float64"
      ]
     },
     "execution_count": 19,
     "metadata": {},
     "output_type": "execute_result"
    }
   ],
   "source": [
    "per_hour = sales.groupby('order_hour')['price_total'].sum()\n",
    "per_hour.head()"
   ]
  },
  {
   "cell_type": "code",
   "execution_count": 20,
   "metadata": {},
   "outputs": [
    {
     "data": {
      "image/png": "[encoded data removed]",
      "text/plain": [
       "<Figure size 648x432 with 1 Axes>"
      ]
     },
     "metadata": {
      "needs_background": "light"
     },
     "output_type": "display_data"
    }
   ],
   "source": [
    "plt.figure(figsize=(9, 6))\n",
    "\n",
    "plt.plot(per_hour.index, per_hour.values, 'o--')\n",
    "\n",
    "plt.title('Sales per Hour')\n",
    "plt.xlabel('Hour')\n",
    "plt.ylabel('Sales in USD')\n",
    "plt.xticks(per_hour.index)\n",
    "\n",
    "plt.show()"
   ]
  },
  {
   "cell_type": "markdown",
   "metadata": {},
   "source": [
    "#### d) What months had the most sales?"
   ]
  },
  {
   "cell_type": "code",
   "execution_count": 21,
   "metadata": {},
   "outputs": [
    {
     "data": {
      "text/html": [
       "<div>\n",
       "<style scoped>\n",
       "    .dataframe tbody tr th:only-of-type {\n",
       "        vertical-align: middle;\n",
       "    }\n",
       "\n",
       "    .dataframe tbody tr th {\n",
       "        vertical-align: top;\n",
       "    }\n",
       "\n",
       "    .dataframe thead th {\n",
       "        text-align: right;\n",
       "    }\n",
       "</style>\n",
       "<table border=\"1\" class=\"dataframe\">\n",
       "  <thead>\n",
       "    <tr style=\"text-align: right;\">\n",
       "      <th></th>\n",
       "      <th>order_id</th>\n",
       "      <th>product</th>\n",
       "      <th>quantity_ordered</th>\n",
       "      <th>price_each</th>\n",
       "      <th>order_date</th>\n",
       "      <th>purchase_address</th>\n",
       "      <th>price_total</th>\n",
       "      <th>purchase_city</th>\n",
       "      <th>order_hour</th>\n",
       "      <th>order_month</th>\n",
       "    </tr>\n",
       "  </thead>\n",
       "  <tbody>\n",
       "    <tr>\n",
       "      <th>0</th>\n",
       "      <td>141234</td>\n",
       "      <td>iPhone</td>\n",
       "      <td>1</td>\n",
       "      <td>700.00</td>\n",
       "      <td>1900-01-22 21:25:00</td>\n",
       "      <td>944 Walnut St, Boston, MA 02215</td>\n",
       "      <td>700.00</td>\n",
       "      <td>Boston, MA</td>\n",
       "      <td>21</td>\n",
       "      <td>1</td>\n",
       "    </tr>\n",
       "    <tr>\n",
       "      <th>1</th>\n",
       "      <td>141235</td>\n",
       "      <td>Lightning Charging Cable</td>\n",
       "      <td>1</td>\n",
       "      <td>14.95</td>\n",
       "      <td>1900-01-28 14:15:00</td>\n",
       "      <td>185 Maple St, Portland, OR 97035</td>\n",
       "      <td>14.95</td>\n",
       "      <td>Portland, OR</td>\n",
       "      <td>14</td>\n",
       "      <td>1</td>\n",
       "    </tr>\n",
       "    <tr>\n",
       "      <th>2</th>\n",
       "      <td>141236</td>\n",
       "      <td>Wired Headphones</td>\n",
       "      <td>2</td>\n",
       "      <td>11.99</td>\n",
       "      <td>1900-01-17 13:33:00</td>\n",
       "      <td>538 Adams St, San Francisco, CA 94016</td>\n",
       "      <td>23.98</td>\n",
       "      <td>San Francisco, CA</td>\n",
       "      <td>13</td>\n",
       "      <td>1</td>\n",
       "    </tr>\n",
       "    <tr>\n",
       "      <th>3</th>\n",
       "      <td>141237</td>\n",
       "      <td>27in FHD Monitor</td>\n",
       "      <td>1</td>\n",
       "      <td>149.99</td>\n",
       "      <td>1900-01-05 20:33:00</td>\n",
       "      <td>738 10th St, Los Angeles, CA 90001</td>\n",
       "      <td>149.99</td>\n",
       "      <td>Los Angeles, CA</td>\n",
       "      <td>20</td>\n",
       "      <td>1</td>\n",
       "    </tr>\n",
       "    <tr>\n",
       "      <th>4</th>\n",
       "      <td>141238</td>\n",
       "      <td>Wired Headphones</td>\n",
       "      <td>1</td>\n",
       "      <td>11.99</td>\n",
       "      <td>1900-01-25 11:59:00</td>\n",
       "      <td>387 10th St, Austin, TX 73301</td>\n",
       "      <td>11.99</td>\n",
       "      <td>Austin, TX</td>\n",
       "      <td>11</td>\n",
       "      <td>1</td>\n",
       "    </tr>\n",
       "  </tbody>\n",
       "</table>\n",
       "</div>"
      ],
      "text/plain": [
       "   order_id                   product  quantity_ordered  price_each  \\\n",
       "0    141234                    iPhone                 1      700.00   \n",
       "1    141235  Lightning Charging Cable                 1       14.95   \n",
       "2    141236          Wired Headphones                 2       11.99   \n",
       "3    141237          27in FHD Monitor                 1      149.99   \n",
       "4    141238          Wired Headphones                 1       11.99   \n",
       "\n",
       "           order_date                       purchase_address  price_total  \\\n",
       "0 1900-01-22 21:25:00        944 Walnut St, Boston, MA 02215       700.00   \n",
       "1 1900-01-28 14:15:00       185 Maple St, Portland, OR 97035        14.95   \n",
       "2 1900-01-17 13:33:00  538 Adams St, San Francisco, CA 94016        23.98   \n",
       "3 1900-01-05 20:33:00     738 10th St, Los Angeles, CA 90001       149.99   \n",
       "4 1900-01-25 11:59:00          387 10th St, Austin, TX 73301        11.99   \n",
       "\n",
       "       purchase_city  order_hour  order_month  \n",
       "0         Boston, MA          21            1  \n",
       "1       Portland, OR          14            1  \n",
       "2  San Francisco, CA          13            1  \n",
       "3    Los Angeles, CA          20            1  \n",
       "4         Austin, TX          11            1  "
      ]
     },
     "execution_count": 21,
     "metadata": {},
     "output_type": "execute_result"
    }
   ],
   "source": [
    "sales['order_month'] = sales['order_date'].dt.month\n",
    "sales.head()"
   ]
  },
  {
   "cell_type": "code",
   "execution_count": 22,
   "metadata": {},
   "outputs": [
    {
     "data": {
      "text/plain": [
       "order_month\n",
       "1    1.822257e+06\n",
       "2    2.202022e+06\n",
       "3    2.807100e+06\n",
       "4    3.390670e+06\n",
       "5    3.152607e+06\n",
       "Name: price_total, dtype: float64"
      ]
     },
     "execution_count": 22,
     "metadata": {},
     "output_type": "execute_result"
    }
   ],
   "source": [
    "per_month = sales.groupby('order_month')['price_total'].sum()\n",
    "per_month.head()"
   ]
  },
  {
   "cell_type": "code",
   "execution_count": 23,
   "metadata": {},
   "outputs": [
    {
     "data": {
      "image/png": "[encoded data removed]",
      "text/plain": [
       "<Figure size 648x432 with 1 Axes>"
      ]
     },
     "metadata": {
      "needs_background": "light"
     },
     "output_type": "display_data"
    }
   ],
   "source": [
    "plt.figure(figsize=(9, 6))\n",
    "\n",
    "plt.plot(per_month.index, per_month.values, 'o--')\n",
    "\n",
    "plt.title('Sales per Month')\n",
    "plt.xlabel('Month')\n",
    "plt.ylabel('Sales in USD')\n",
    "plt.xticks(per_month.index)\n",
    "\n",
    "plt.show()"
   ]
  },
  {
   "cell_type": "markdown",
   "metadata": {},
   "source": [
    "#### e) What products are most often sold together?"
   ]
  },
  {
   "cell_type": "code",
   "execution_count": 24,
   "metadata": {},
   "outputs": [
    {
     "data": {
      "text/html": [
       "<div>\n",
       "<style scoped>\n",
       "    .dataframe tbody tr th:only-of-type {\n",
       "        vertical-align: middle;\n",
       "    }\n",
       "\n",
       "    .dataframe tbody tr th {\n",
       "        vertical-align: top;\n",
       "    }\n",
       "\n",
       "    .dataframe thead th {\n",
       "        text-align: right;\n",
       "    }\n",
       "</style>\n",
       "<table border=\"1\" class=\"dataframe\">\n",
       "  <thead>\n",
       "    <tr style=\"text-align: right;\">\n",
       "      <th></th>\n",
       "      <th>order_id</th>\n",
       "      <th>product</th>\n",
       "      <th>quantity_ordered</th>\n",
       "      <th>price_each</th>\n",
       "      <th>order_date</th>\n",
       "      <th>purchase_address</th>\n",
       "      <th>price_total</th>\n",
       "      <th>purchase_city</th>\n",
       "      <th>order_hour</th>\n",
       "      <th>order_month</th>\n",
       "    </tr>\n",
       "  </thead>\n",
       "  <tbody>\n",
       "    <tr>\n",
       "      <th>168603</th>\n",
       "      <td>302991</td>\n",
       "      <td>Google Phone</td>\n",
       "      <td>1</td>\n",
       "      <td>600.00</td>\n",
       "      <td>1900-12-26 07:48:00</td>\n",
       "      <td>605 Washington St, Los Angeles, CA 90001</td>\n",
       "      <td>600.00</td>\n",
       "      <td>Los Angeles, CA</td>\n",
       "      <td>7</td>\n",
       "      <td>12</td>\n",
       "    </tr>\n",
       "    <tr>\n",
       "      <th>168604</th>\n",
       "      <td>302991</td>\n",
       "      <td>USB-C Charging Cable</td>\n",
       "      <td>1</td>\n",
       "      <td>11.95</td>\n",
       "      <td>1900-12-26 07:48:00</td>\n",
       "      <td>605 Washington St, Los Angeles, CA 90001</td>\n",
       "      <td>11.95</td>\n",
       "      <td>Los Angeles, CA</td>\n",
       "      <td>7</td>\n",
       "      <td>12</td>\n",
       "    </tr>\n",
       "    <tr>\n",
       "      <th>168605</th>\n",
       "      <td>302991</td>\n",
       "      <td>Wired Headphones</td>\n",
       "      <td>2</td>\n",
       "      <td>11.99</td>\n",
       "      <td>1900-12-26 07:48:00</td>\n",
       "      <td>605 Washington St, Los Angeles, CA 90001</td>\n",
       "      <td>23.98</td>\n",
       "      <td>Los Angeles, CA</td>\n",
       "      <td>7</td>\n",
       "      <td>12</td>\n",
       "    </tr>\n",
       "  </tbody>\n",
       "</table>\n",
       "</div>"
      ],
      "text/plain": [
       "        order_id               product  quantity_ordered  price_each  \\\n",
       "168603    302991          Google Phone                 1      600.00   \n",
       "168604    302991  USB-C Charging Cable                 1       11.95   \n",
       "168605    302991      Wired Headphones                 2       11.99   \n",
       "\n",
       "                order_date                          purchase_address  \\\n",
       "168603 1900-12-26 07:48:00  605 Washington St, Los Angeles, CA 90001   \n",
       "168604 1900-12-26 07:48:00  605 Washington St, Los Angeles, CA 90001   \n",
       "168605 1900-12-26 07:48:00  605 Washington St, Los Angeles, CA 90001   \n",
       "\n",
       "        price_total    purchase_city  order_hour  order_month  \n",
       "168603       600.00  Los Angeles, CA           7           12  \n",
       "168604        11.95  Los Angeles, CA           7           12  \n",
       "168605        23.98  Los Angeles, CA           7           12  "
      ]
     },
     "execution_count": 24,
     "metadata": {},
     "output_type": "execute_result"
    }
   ],
   "source": [
    "sales[sales['order_id'] == 302991]"
   ]
  },
  {
   "cell_type": "code",
   "execution_count": 25,
   "metadata": {},
   "outputs": [
    {
     "data": {
      "text/plain": [
       "order_id\n",
       "141234                      [iPhone]\n",
       "141235    [Lightning Charging Cable]\n",
       "141236            [Wired Headphones]\n",
       "141237            [27in FHD Monitor]\n",
       "141238            [Wired Headphones]\n",
       "Name: product, dtype: object"
      ]
     },
     "execution_count": 25,
     "metadata": {},
     "output_type": "execute_result"
    }
   ],
   "source": [
    "prods_per_order = sales.groupby('order_id')['product'].apply(list)\n",
    "prods_per_order.head()"
   ]
  },
  {
   "cell_type": "code",
   "execution_count": 26,
   "metadata": {},
   "outputs": [
    {
     "data": {
      "text/plain": [
       "['Google Phone', 'USB-C Charging Cable', 'Wired Headphones']"
      ]
     },
     "execution_count": 26,
     "metadata": {},
     "output_type": "execute_result"
    }
   ],
   "source": [
    "prods_per_order.loc[302991]"
   ]
  },
  {
   "cell_type": "code",
   "execution_count": 27,
   "metadata": {},
   "outputs": [
    {
     "data": {
      "text/plain": [
       "[('Google Phone', 'USB-C Charging Cable'),\n",
       " ('Google Phone', 'Wired Headphones'),\n",
       " ('USB-C Charging Cable', 'Wired Headphones')]"
      ]
     },
     "execution_count": 27,
     "metadata": {},
     "output_type": "execute_result"
    }
   ],
   "source": [
    "list(itertools.combinations(prods_per_order.loc[302991], 2))"
   ]
  },
  {
   "cell_type": "code",
   "execution_count": 28,
   "metadata": {},
   "outputs": [],
   "source": [
    "prods_pairs_dict = {}\n",
    "for prods in prods_per_order:\n",
    "    combs = itertools.combinations(prods, 2)\n",
    "    for comb in combs:\n",
    "        comb = ', '.join(comb)\n",
    "        try:\n",
    "            prods_pairs_dict[comb] += 1\n",
    "        except KeyError:\n",
    "            prods_pairs_dict[comb] = 1"
   ]
  },
  {
   "cell_type": "code",
   "execution_count": 29,
   "metadata": {},
   "outputs": [
    {
     "data": {
      "text/plain": [
       "USB-C Charging Cable, Wired Headphones             160\n",
       "Apple Airpods Headphones, AA Batteries (4-pack)     29\n",
       "Vareebadd Phone, Wired Headphones                  143\n",
       "Google Phone, USB-C Charging Cable                 987\n",
       "Google Phone, Bose SoundSport Headphones           220\n",
       "dtype: int64"
      ]
     },
     "execution_count": 29,
     "metadata": {},
     "output_type": "execute_result"
    }
   ],
   "source": [
    "prods_pairs = pd.Series(prods_pairs_dict, index=prods_pairs_dict.keys())\n",
    "prods_pairs.head()"
   ]
  },
  {
   "cell_type": "code",
   "execution_count": 30,
   "metadata": {},
   "outputs": [
    {
     "data": {
      "image/png": "[encoded data removed]",
      "text/plain": [
       "<Figure size 648x432 with 1 Axes>"
      ]
     },
     "metadata": {
      "needs_background": "light"
     },
     "output_type": "display_data"
    }
   ],
   "source": [
    "plt.figure(figsize=(9, 6))\n",
    "\n",
    "top_prods_pairs = prods_pairs[prods_pairs > 100]\n",
    "\n",
    "plt.bar(top_prods_pairs.index, top_prods_pairs.values)\n",
    "\n",
    "plt.title('Orders Quantity per Product Pair')\n",
    "plt.xlabel('Product Pair')\n",
    "plt.ylabel('Orders Quantity')\n",
    "plt.xticks(rotation='vertical')\n",
    "\n",
    "plt.show()"
   ]
  }
 ],
 "metadata": {
  "kernelspec": {
   "display_name": "Python 3",
   "language": "python",
   "name": "python3"
  },
  "language_info": {
   "codemirror_mode": {
    "name": "ipython",
    "version": 3
   },
   "file_extension": ".py",
   "mimetype": "text/x-python",
   "name": "python",
   "nbconvert_exporter": "python",
   "pygments_lexer": "ipython3",
   "version": "3.6.9"
  }
 },
 "nbformat": 4,
 "nbformat_minor": 4
}
